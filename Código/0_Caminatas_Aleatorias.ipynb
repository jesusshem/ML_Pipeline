{
 "cells": [
  {
   "cell_type": "markdown",
   "metadata": {},
   "source": [
    "# Crear un programa acerca de una caminata aleatroria en $\\mathbb{R}^{2}$ donde inicia en el punto $(0, 0)$ y que calcule las tasas de probabilidad de caer a cada una de las siguientes **trampas**:\n",
    "\n",
    "- $(3, 13)$\n",
    "- $(-1, 7)$ \n",
    "- $(12, 4)$"
   ]
  },
  {
   "cell_type": "markdown",
   "metadata": {},
   "source": [
    "# Forma entendible"
   ]
  },
  {
   "cell_type": "code",
   "execution_count": 1,
   "metadata": {},
   "outputs": [],
   "source": [
    "import numpy as np\n",
    "from __future__ import division"
   ]
  },
  {
   "cell_type": "code",
   "execution_count": 2,
   "metadata": {},
   "outputs": [],
   "source": [
    "def caminata(inicio, trampa1, trampa2, trampa3, n):\n",
    "    t1 = 0\n",
    "    t2 = 0\n",
    "    t3 = 0\n",
    "    for j in range(n):\n",
    "        paso = np.random.randint(1, 5)\n",
    "        if paso == 1:\n",
    "            inicio[0] += 1\n",
    "        elif paso == 2:\n",
    "            inicio[0] += -1\n",
    "        elif paso == 3:\n",
    "            inicio[1] += 1\n",
    "        else:\n",
    "            inicio[1] += -1\n",
    "        final = inicio\n",
    "        if final == trampa1:\n",
    "            t1 += 1\n",
    "            break\n",
    "        elif final == trampa2:\n",
    "            t2 += 1\n",
    "            break\n",
    "        elif final == trampa3:\n",
    "            t3 += 1\n",
    "            break\n",
    "    return t1, t2, t3"
   ]
  },
  {
   "cell_type": "code",
   "execution_count": 3,
   "metadata": {},
   "outputs": [],
   "source": [
    "def sim(m):\n",
    "    cont1 = 0\n",
    "    cont2 = 0\n",
    "    cont3 = 0\n",
    "    for i in range(m):\n",
    "        t1, t2, t3 = caminata([0, 0], [3, 13], [-1, 7], [12, 4], 100)\n",
    "        cont1 += t1\n",
    "        cont2 += t2\n",
    "        cont3 += t3\n",
    "    cont1 = cont1/m\n",
    "    cont2 = cont2/m\n",
    "    cont3 = cont3/m\n",
    "    return cont1, cont2, cont3"
   ]
  },
  {
   "cell_type": "code",
   "execution_count": 4,
   "metadata": {},
   "outputs": [
    {
     "name": "stdout",
     "output_type": "stream",
     "text": [
      " veces que cayeron en t1: 0.004 \n",
      " veces que cayeron en t2: 0.098 \n",
      " veces que cayeron en t3: 0.013\n",
      "CPU times: user 646 ms, sys: 36.4 ms, total: 683 ms\n",
      "Wall time: 701 ms\n"
     ]
    }
   ],
   "source": [
    "%%time\n",
    "cont1, cont2, cont3 = sim(1000) \n",
    "print \" veces que cayeron en t1: {} \\n veces que cayeron en t2: {} \\n veces que cayeron en t3: {}\".format(cont1, cont2, cont3)"
   ]
  },
  {
   "cell_type": "markdown",
   "metadata": {},
   "source": [
    "__NOTA:__ <br>\n",
    "'%s %s' % ('one', 'two') <br>\n",
    "'{} {}'.format('one', 'two')\n",
    "\n",
    "'%.2f %f' % (var1, var2) <br>\n",
    "\n",
    "'%d %d' % (1, 2) <br>\n",
    "'{} {}'.format(1, 2)"
   ]
  },
  {
   "cell_type": "markdown",
   "metadata": {},
   "source": [
    "## Valores (aprox.)\n",
    "t1 $\\approx$  0.008 <br>\n",
    "t2 $\\approx$ 0.08 <br>\n",
    "t3 $\\approx$ 0.015"
   ]
  },
  {
   "cell_type": "markdown",
   "metadata": {},
   "source": [
    "# Otra forma de hacerlo..."
   ]
  },
  {
   "cell_type": "code",
   "execution_count": 5,
   "metadata": {},
   "outputs": [],
   "source": [
    "from __future__ import division\n",
    "import random"
   ]
  },
  {
   "cell_type": "code",
   "execution_count": 6,
   "metadata": {},
   "outputs": [],
   "source": [
    "def caminata2(inicio, n):\n",
    "    x = ''\n",
    "    for _ in range(n):\n",
    "        direcc = random.choice([0, 1])\n",
    "        paso = random.choice([-1, 1])\n",
    "        inicio[direcc] += paso\n",
    "        if inicio == [3, 13]:\n",
    "            x = '1'\n",
    "            break\n",
    "        elif inicio == [-1, 7]:\n",
    "            x = '2'\n",
    "            break\n",
    "        elif inicio == [12, 4]:\n",
    "            x = '3'\n",
    "            break\n",
    "    return x"
   ]
  },
  {
   "cell_type": "code",
   "execution_count": 7,
   "metadata": {},
   "outputs": [],
   "source": [
    "def sim2(m):\n",
    "    cont1 = []\n",
    "    cont2 = []\n",
    "    cont3 = []\n",
    "    for _ in range(m):\n",
    "        trampa = caminata2([0, 0], 100)\n",
    "        if trampa == '1':\n",
    "            cont1.append(1)\n",
    "        elif trampa == '2':\n",
    "            cont2.append(1)\n",
    "        elif trampa == '3': \n",
    "            cont3.append(1)\n",
    "    cont1 = sum(cont1)/m\n",
    "    cont2 = sum(cont2)/m\n",
    "    cont3 = sum(cont3)/m\n",
    "    return cont1, cont2, cont3"
   ]
  },
  {
   "cell_type": "code",
   "execution_count": 8,
   "metadata": {},
   "outputs": [
    {
     "name": "stdout",
     "output_type": "stream",
     "text": [
      " % de caída en t1: 0.004 \n",
      " % de caída en t2: 0.102 \n",
      " % de caída en t3: 0.022\n",
      "CPU times: user 484 ms, sys: 4.34 ms, total: 488 ms\n",
      "Wall time: 488 ms\n"
     ]
    }
   ],
   "source": [
    "%%time\n",
    "cont1, cont2, cont3 = sim2(1000)\n",
    "print ' % de caída en t1: {} \\n % de caída en t2: {} \\n % de caída en t3: {}'.format(cont1, cont2, cont3)"
   ]
  },
  {
   "cell_type": "markdown",
   "metadata": {},
   "source": [
    "## Valores (aprox.)\n",
    "t1 $\\approx$  0.008 <br>\n",
    "t2 $\\approx$ 0.08 <br>\n",
    "t3 $\\approx$ 0.015"
   ]
  },
  {
   "cell_type": "markdown",
   "metadata": {},
   "source": [
    "# Un poco menos entendible, pero más elegante..."
   ]
  },
  {
   "cell_type": "code",
   "execution_count": 9,
   "metadata": {},
   "outputs": [],
   "source": [
    "import numpy as np\n",
    "from __future__ import division\n",
    "import random"
   ]
  },
  {
   "cell_type": "code",
   "execution_count": 10,
   "metadata": {},
   "outputs": [],
   "source": [
    "pasos = [[0,1], [1,0], [-1,0], [0,-1]]\n",
    "inicio = [0, 0]"
   ]
  },
  {
   "cell_type": "code",
   "execution_count": 11,
   "metadata": {},
   "outputs": [],
   "source": [
    "def caminata3(inicio, n):\n",
    "    x = '0'\n",
    "    for _ in range(n):\n",
    "        inicio = map(lambda x, y: x + y, inicio, random.choice(pasos))\n",
    "        if inicio == [3, 13]:\n",
    "            x = '1'\n",
    "            break\n",
    "        elif inicio == [-1, 7]:\n",
    "            x = '2'\n",
    "            break\n",
    "        elif inicio == [12, 4]:\n",
    "            x = '3'\n",
    "            break\n",
    "    return x"
   ]
  },
  {
   "cell_type": "code",
   "execution_count": 12,
   "metadata": {},
   "outputs": [],
   "source": [
    "def sim3(m, n):\n",
    "    cont1 = []\n",
    "    cont2 = []\n",
    "    cont3 = []\n",
    "    cond = {'1': 'cont{}.append(1)'.format(1), '2': 'cont{}.append(1)'.format(2), '3': 'cont{}.append(1)'.format(3), '0':'0'}\n",
    "    for _ in range(m):\n",
    "        trampa = caminata3([0, 0], n)\n",
    "        eval(cond[trampa])\n",
    "    cont1 = sum(cont1)/m\n",
    "    cont2 = sum(cont2)/m\n",
    "    cont3 = sum(cont3)/m\n",
    "    return cont1, cont2, cont3"
   ]
  },
  {
   "cell_type": "code",
   "execution_count": 13,
   "metadata": {},
   "outputs": [
    {
     "name": "stdout",
     "output_type": "stream",
     "text": [
      " % de caída en t1: 0.013 \n",
      " % de caída en t2: 0.091 \n",
      " % de caída en t3: 0.019\n",
      "CPU times: user 508 ms, sys: 4.59 ms, total: 513 ms\n",
      "Wall time: 510 ms\n"
     ]
    }
   ],
   "source": [
    "%%time\n",
    "cont1, cont2, cont3 = sim3(1000, 100)\n",
    "print ' % de caída en t1: {} \\n % de caída en t2: {} \\n % de caída en t3: {}'.format(cont1, cont2, cont3)"
   ]
  },
  {
   "cell_type": "markdown",
   "metadata": {},
   "source": [
    "## Valores (aprox.)\n",
    "t1 $\\approx$  0.008 <br>\n",
    "t2 $\\approx$ 0.08 <br>\n",
    "t3 $\\approx$ 0.015"
   ]
  },
  {
   "cell_type": "markdown",
   "metadata": {},
   "source": [
    "# La forma elegante"
   ]
  },
  {
   "cell_type": "code",
   "execution_count": 14,
   "metadata": {},
   "outputs": [],
   "source": [
    "from __future__ import division\n",
    "import numpy as np\n",
    "import random\n",
    "#import matplotlib.pyplot as plt\n",
    "import pandas as pd\n",
    "#import pygal\n",
    "#%matplotlib inline"
   ]
  },
  {
   "cell_type": "code",
   "execution_count": 15,
   "metadata": {},
   "outputs": [],
   "source": [
    "pasos = [(0,1),(1,0),(-1,0),(0,-1)]\n",
    "trampas = [(3, 13), (-1, 7), (12, 4)]"
   ]
  },
  {
   "cell_type": "code",
   "execution_count": 16,
   "metadata": {},
   "outputs": [],
   "source": [
    "def caminata4(largo):\n",
    "    oxy = (0, 0)\n",
    "    for i in range(largo):\n",
    "        oxy = tuple(map(lambda x, y: x + y, oxy, random.choice(pasos)))\n",
    "        if oxy in trampas:\n",
    "            #print \"caí en la trampa %d,%d\" % oxy\n",
    "            return i, oxy\n",
    "            break"
   ]
  },
  {
   "cell_type": "code",
   "execution_count": 17,
   "metadata": {},
   "outputs": [],
   "source": [
    "def sim(n,npasos):\n",
    "    lst_caida = []\n",
    "    for i in range(n):\n",
    "        paro = caminata4(npasos)\n",
    "        if paro is not None:\n",
    "            lst_caida.append(paro)\n",
    "    df = pd.DataFrame(lst_caida,columns=['pasos','hoyo'])\n",
    "    print \"la probabilidad de caer en algún hoyo en a lo más %d pasos es %.2f\" % (npasos,len(df)/n)\n",
    "\n",
    "    print \"En promedio, se cae en una trampa a los %.1f pasos\" % df.pasos.mean() "
   ]
  },
  {
   "cell_type": "code",
   "execution_count": 18,
   "metadata": {},
   "outputs": [
    {
     "name": "stdout",
     "output_type": "stream",
     "text": [
      "la probabilidad de caer en algún hoyo en a lo más 100 pasos es 0.12\n",
      "En promedio, se cae en una trampa a los 55.7 pasos\n",
      "CPU times: user 5.51 s, sys: 32 ms, total: 5.54 s\n",
      "Wall time: 5.54 s\n"
     ]
    }
   ],
   "source": [
    "%%time\n",
    "sim(10000,100)"
   ]
  },
  {
   "cell_type": "code",
   "execution_count": null,
   "metadata": {},
   "outputs": [],
   "source": []
  }
 ],
 "metadata": {
  "kernelspec": {
   "display_name": "Python 2",
   "language": "python",
   "name": "python2"
  },
  "language_info": {
   "codemirror_mode": {
    "name": "ipython",
    "version": 2
   },
   "file_extension": ".py",
   "mimetype": "text/x-python",
   "name": "python",
   "nbconvert_exporter": "python",
   "pygments_lexer": "ipython2",
   "version": "2.7.15"
  },
  "toc": {
   "base_numbering": 1,
   "nav_menu": {},
   "number_sections": true,
   "sideBar": true,
   "skip_h1_title": false,
   "title_cell": "Table of Contents",
   "title_sidebar": "Contents",
   "toc_cell": false,
   "toc_position": {},
   "toc_section_display": true,
   "toc_window_display": false
  }
 },
 "nbformat": 4,
 "nbformat_minor": 2
}
