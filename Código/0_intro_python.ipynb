{
 "cells": [
  {
   "cell_type": "markdown",
   "metadata": {},
   "source": [
    "# Importación de Librerías"
   ]
  },
  {
   "cell_type": "code",
   "execution_count": 1,
   "metadata": {},
   "outputs": [],
   "source": [
    "from __future__ import division\n",
    "from faker import Faker\n",
    "\n",
    "import unidecode\n",
    "import random\n",
    "import numpy as np\n",
    "import pandas as pd\n",
    "import matplotlib.pyplot as plt\n",
    "%matplotlib inline"
   ]
  },
  {
   "cell_type": "markdown",
   "metadata": {},
   "source": [
    "# Creación de Listas"
   ]
  },
  {
   "cell_type": "markdown",
   "metadata": {},
   "source": [
    "## Comprehension"
   ]
  },
  {
   "cell_type": "code",
   "execution_count": 2,
   "metadata": {},
   "outputs": [],
   "source": [
    "l2 = [x for x in range(1, 33)]"
   ]
  },
  {
   "cell_type": "markdown",
   "metadata": {},
   "source": [
    "## Tradicional"
   ]
  },
  {
   "cell_type": "code",
   "execution_count": 3,
   "metadata": {},
   "outputs": [],
   "source": [
    "l = []\n",
    "for x in range(1, 33):\n",
    "    l.append(x)"
   ]
  },
  {
   "cell_type": "code",
   "execution_count": 4,
   "metadata": {},
   "outputs": [
    {
     "data": {
      "text/plain": [
       "list"
      ]
     },
     "execution_count": 4,
     "metadata": {},
     "output_type": "execute_result"
    }
   ],
   "source": [
    "type(l2)"
   ]
  },
  {
   "cell_type": "markdown",
   "metadata": {},
   "source": [
    "## Con *Numpy*"
   ]
  },
  {
   "cell_type": "code",
   "execution_count": 5,
   "metadata": {},
   "outputs": [],
   "source": [
    "ln2 = np.array(l2)"
   ]
  },
  {
   "cell_type": "code",
   "execution_count": 6,
   "metadata": {},
   "outputs": [
    {
     "data": {
      "text/plain": [
       "numpy.ndarray"
      ]
     },
     "execution_count": 6,
     "metadata": {},
     "output_type": "execute_result"
    }
   ],
   "source": [
    "type(ln2)"
   ]
  },
  {
   "cell_type": "markdown",
   "metadata": {},
   "source": [
    "# Choise"
   ]
  },
  {
   "cell_type": "markdown",
   "metadata": {},
   "source": [
    "## *random.choice* es con reemplazo"
   ]
  },
  {
   "cell_type": "code",
   "execution_count": 7,
   "metadata": {},
   "outputs": [
    {
     "data": {
      "text/plain": [
       "2"
      ]
     },
     "execution_count": 7,
     "metadata": {},
     "output_type": "execute_result"
    }
   ],
   "source": [
    "random.choice(ln2)"
   ]
  },
  {
   "cell_type": "markdown",
   "metadata": {},
   "source": [
    "## *np.random.choice* puede ser con o sin reemplazo"
   ]
  },
  {
   "cell_type": "code",
   "execution_count": 8,
   "metadata": {},
   "outputs": [
    {
     "data": {
      "text/plain": [
       "array([ 1, 16, 24, 15, 23, 14, 22, 26, 17, 24,  4, 29, 24, 26,  2, 25,  7,\n",
       "       22, 13, 18,  7, 21, 22, 19, 20,  6, 31, 10, 17, 15, 15, 30])"
      ]
     },
     "execution_count": 8,
     "metadata": {},
     "output_type": "execute_result"
    }
   ],
   "source": [
    "np.random.choice(l2, size = 32, replace = True)"
   ]
  },
  {
   "cell_type": "code",
   "execution_count": 9,
   "metadata": {},
   "outputs": [
    {
     "data": {
      "text/plain": [
       "32"
      ]
     },
     "execution_count": 9,
     "metadata": {},
     "output_type": "execute_result"
    }
   ],
   "source": [
    "len(np.unique(np.random.choice(l2, size = 32, replace = False)))"
   ]
  },
  {
   "cell_type": "markdown",
   "metadata": {},
   "source": [
    "# Creación de Dataframe"
   ]
  },
  {
   "cell_type": "code",
   "execution_count": 10,
   "metadata": {},
   "outputs": [],
   "source": [
    "df_datos = pd.DataFrame(ln2, columns = ['datos'])"
   ]
  },
  {
   "cell_type": "markdown",
   "metadata": {},
   "source": [
    "## Vista del Dataframe"
   ]
  },
  {
   "cell_type": "code",
   "execution_count": 11,
   "metadata": {},
   "outputs": [
    {
     "data": {
      "text/html": [
       "<div>\n",
       "<style>\n",
       "    .dataframe thead tr:only-child th {\n",
       "        text-align: right;\n",
       "    }\n",
       "\n",
       "    .dataframe thead th {\n",
       "        text-align: left;\n",
       "    }\n",
       "\n",
       "    .dataframe tbody tr th {\n",
       "        vertical-align: top;\n",
       "    }\n",
       "</style>\n",
       "<table border=\"1\" class=\"dataframe\">\n",
       "  <thead>\n",
       "    <tr style=\"text-align: right;\">\n",
       "      <th></th>\n",
       "      <th>datos</th>\n",
       "    </tr>\n",
       "  </thead>\n",
       "  <tbody>\n",
       "    <tr>\n",
       "      <th>17</th>\n",
       "      <td>18</td>\n",
       "    </tr>\n",
       "    <tr>\n",
       "      <th>18</th>\n",
       "      <td>19</td>\n",
       "    </tr>\n",
       "    <tr>\n",
       "      <th>19</th>\n",
       "      <td>20</td>\n",
       "    </tr>\n",
       "    <tr>\n",
       "      <th>20</th>\n",
       "      <td>21</td>\n",
       "    </tr>\n",
       "    <tr>\n",
       "      <th>21</th>\n",
       "      <td>22</td>\n",
       "    </tr>\n",
       "    <tr>\n",
       "      <th>22</th>\n",
       "      <td>23</td>\n",
       "    </tr>\n",
       "    <tr>\n",
       "      <th>23</th>\n",
       "      <td>24</td>\n",
       "    </tr>\n",
       "    <tr>\n",
       "      <th>24</th>\n",
       "      <td>25</td>\n",
       "    </tr>\n",
       "    <tr>\n",
       "      <th>25</th>\n",
       "      <td>26</td>\n",
       "    </tr>\n",
       "    <tr>\n",
       "      <th>26</th>\n",
       "      <td>27</td>\n",
       "    </tr>\n",
       "    <tr>\n",
       "      <th>27</th>\n",
       "      <td>28</td>\n",
       "    </tr>\n",
       "    <tr>\n",
       "      <th>28</th>\n",
       "      <td>29</td>\n",
       "    </tr>\n",
       "    <tr>\n",
       "      <th>29</th>\n",
       "      <td>30</td>\n",
       "    </tr>\n",
       "    <tr>\n",
       "      <th>30</th>\n",
       "      <td>31</td>\n",
       "    </tr>\n",
       "    <tr>\n",
       "      <th>31</th>\n",
       "      <td>32</td>\n",
       "    </tr>\n",
       "  </tbody>\n",
       "</table>\n",
       "</div>"
      ],
      "text/plain": [
       "    datos\n",
       "17     18\n",
       "18     19\n",
       "19     20\n",
       "20     21\n",
       "21     22\n",
       "22     23\n",
       "23     24\n",
       "24     25\n",
       "25     26\n",
       "26     27\n",
       "27     28\n",
       "28     29\n",
       "29     30\n",
       "30     31\n",
       "31     32"
      ]
     },
     "execution_count": 11,
     "metadata": {},
     "output_type": "execute_result"
    }
   ],
   "source": [
    "df_datos.head(15)\n",
    "df_datos.tail(15)"
   ]
  },
  {
   "cell_type": "markdown",
   "metadata": {},
   "source": [
    "## Creación de cuantiles"
   ]
  },
  {
   "cell_type": "code",
   "execution_count": 12,
   "metadata": {},
   "outputs": [],
   "source": [
    "pct = [x/10 for x in range(1, 10)]\n",
    "pct.append(0.95)\n",
    "pct.append(0.99)"
   ]
  },
  {
   "cell_type": "code",
   "execution_count": 13,
   "metadata": {
    "scrolled": false
   },
   "outputs": [
    {
     "data": {
      "text/html": [
       "<div>\n",
       "<style>\n",
       "    .dataframe thead tr:only-child th {\n",
       "        text-align: right;\n",
       "    }\n",
       "\n",
       "    .dataframe thead th {\n",
       "        text-align: left;\n",
       "    }\n",
       "\n",
       "    .dataframe tbody tr th {\n",
       "        vertical-align: top;\n",
       "    }\n",
       "</style>\n",
       "<table border=\"1\" class=\"dataframe\">\n",
       "  <thead>\n",
       "    <tr style=\"text-align: right;\">\n",
       "      <th></th>\n",
       "      <th>datos</th>\n",
       "    </tr>\n",
       "  </thead>\n",
       "  <tbody>\n",
       "    <tr>\n",
       "      <th>count</th>\n",
       "      <td>32.000000</td>\n",
       "    </tr>\n",
       "    <tr>\n",
       "      <th>mean</th>\n",
       "      <td>16.500000</td>\n",
       "    </tr>\n",
       "    <tr>\n",
       "      <th>std</th>\n",
       "      <td>9.380832</td>\n",
       "    </tr>\n",
       "    <tr>\n",
       "      <th>min</th>\n",
       "      <td>1.000000</td>\n",
       "    </tr>\n",
       "    <tr>\n",
       "      <th>10%</th>\n",
       "      <td>4.100000</td>\n",
       "    </tr>\n",
       "    <tr>\n",
       "      <th>20%</th>\n",
       "      <td>7.200000</td>\n",
       "    </tr>\n",
       "    <tr>\n",
       "      <th>30%</th>\n",
       "      <td>10.300000</td>\n",
       "    </tr>\n",
       "    <tr>\n",
       "      <th>40%</th>\n",
       "      <td>13.400000</td>\n",
       "    </tr>\n",
       "    <tr>\n",
       "      <th>50%</th>\n",
       "      <td>16.500000</td>\n",
       "    </tr>\n",
       "    <tr>\n",
       "      <th>60%</th>\n",
       "      <td>19.600000</td>\n",
       "    </tr>\n",
       "    <tr>\n",
       "      <th>70%</th>\n",
       "      <td>22.700000</td>\n",
       "    </tr>\n",
       "    <tr>\n",
       "      <th>80%</th>\n",
       "      <td>25.800000</td>\n",
       "    </tr>\n",
       "    <tr>\n",
       "      <th>90%</th>\n",
       "      <td>28.900000</td>\n",
       "    </tr>\n",
       "    <tr>\n",
       "      <th>95%</th>\n",
       "      <td>30.450000</td>\n",
       "    </tr>\n",
       "    <tr>\n",
       "      <th>99%</th>\n",
       "      <td>31.690000</td>\n",
       "    </tr>\n",
       "    <tr>\n",
       "      <th>max</th>\n",
       "      <td>32.000000</td>\n",
       "    </tr>\n",
       "  </tbody>\n",
       "</table>\n",
       "</div>"
      ],
      "text/plain": [
       "           datos\n",
       "count  32.000000\n",
       "mean   16.500000\n",
       "std     9.380832\n",
       "min     1.000000\n",
       "10%     4.100000\n",
       "20%     7.200000\n",
       "30%    10.300000\n",
       "40%    13.400000\n",
       "50%    16.500000\n",
       "60%    19.600000\n",
       "70%    22.700000\n",
       "80%    25.800000\n",
       "90%    28.900000\n",
       "95%    30.450000\n",
       "99%    31.690000\n",
       "max    32.000000"
      ]
     },
     "execution_count": 13,
     "metadata": {},
     "output_type": "execute_result"
    }
   ],
   "source": [
    "df_datos.describe(pct)"
   ]
  },
  {
   "cell_type": "code",
   "execution_count": 14,
   "metadata": {},
   "outputs": [
    {
     "name": "stdout",
     "output_type": "stream",
     "text": [
      "<class 'pandas.core.frame.DataFrame'>\n",
      "RangeIndex: 32 entries, 0 to 31\n",
      "Data columns (total 1 columns):\n",
      "datos    32 non-null int64\n",
      "dtypes: int64(1)\n",
      "memory usage: 328.0 bytes\n"
     ]
    }
   ],
   "source": [
    "df_datos.info()"
   ]
  },
  {
   "cell_type": "code",
   "execution_count": 15,
   "metadata": {},
   "outputs": [
    {
     "data": {
      "text/plain": [
       "datos    int64\n",
       "dtype: object"
      ]
     },
     "execution_count": 15,
     "metadata": {},
     "output_type": "execute_result"
    }
   ],
   "source": [
    "df_datos.dtypes"
   ]
  },
  {
   "cell_type": "markdown",
   "metadata": {},
   "source": [
    "# Simulación de datos con *Faker*"
   ]
  },
  {
   "cell_type": "code",
   "execution_count": 16,
   "metadata": {},
   "outputs": [],
   "source": [
    "fake = Faker('es_MX')"
   ]
  },
  {
   "cell_type": "code",
   "execution_count": 17,
   "metadata": {},
   "outputs": [],
   "source": [
    "nombre = fake.name()"
   ]
  },
  {
   "cell_type": "markdown",
   "metadata": {},
   "source": [
    "## Limpieza de acentos"
   ]
  },
  {
   "cell_type": "code",
   "execution_count": 18,
   "metadata": {},
   "outputs": [],
   "source": [
    "nombre = unidecode.unidecode(nombre)"
   ]
  },
  {
   "cell_type": "markdown",
   "metadata": {},
   "source": [
    "## Agregamos columnas con datos simulados"
   ]
  },
  {
   "cell_type": "code",
   "execution_count": 19,
   "metadata": {},
   "outputs": [],
   "source": [
    "df_datos['nombre'] = [unidecode.unidecode(fake.name()) for x in range(32)]\n",
    "\n",
    "df_datos['direcc'] = [unidecode.unidecode(fake.address()) for x in range(32)]"
   ]
  },
  {
   "cell_type": "code",
   "execution_count": 20,
   "metadata": {},
   "outputs": [
    {
     "data": {
      "text/html": [
       "<div>\n",
       "<style>\n",
       "    .dataframe thead tr:only-child th {\n",
       "        text-align: right;\n",
       "    }\n",
       "\n",
       "    .dataframe thead th {\n",
       "        text-align: left;\n",
       "    }\n",
       "\n",
       "    .dataframe tbody tr th {\n",
       "        vertical-align: top;\n",
       "    }\n",
       "</style>\n",
       "<table border=\"1\" class=\"dataframe\">\n",
       "  <thead>\n",
       "    <tr style=\"text-align: right;\">\n",
       "      <th></th>\n",
       "      <th>datos</th>\n",
       "      <th>nombre</th>\n",
       "      <th>direcc</th>\n",
       "    </tr>\n",
       "  </thead>\n",
       "  <tbody>\n",
       "    <tr>\n",
       "      <th>0</th>\n",
       "      <td>1</td>\n",
       "      <td>Itzel Gamez</td>\n",
       "      <td>Diagonal Lozano 678 Edif. 823 , Depto. 736\\nVi...</td>\n",
       "    </tr>\n",
       "    <tr>\n",
       "      <th>1</th>\n",
       "      <td>2</td>\n",
       "      <td>Maria del Carmen Irma Orta</td>\n",
       "      <td>Calle Norte Ramon 278 976\\nSan Sofia los bajos...</td>\n",
       "    </tr>\n",
       "    <tr>\n",
       "      <th>2</th>\n",
       "      <td>3</td>\n",
       "      <td>Bianca Urias Vallejo</td>\n",
       "      <td>Boulevard Jaramillo 598 Interior 126\\nSan Gabi...</td>\n",
       "    </tr>\n",
       "    <tr>\n",
       "      <th>3</th>\n",
       "      <td>4</td>\n",
       "      <td>Natividad Elizondo Barragan</td>\n",
       "      <td>Corredor Azerbaiyan 669 Edif. 069 , Depto. 799...</td>\n",
       "    </tr>\n",
       "    <tr>\n",
       "      <th>4</th>\n",
       "      <td>5</td>\n",
       "      <td>Rosa Perla Aguirre Vazquez</td>\n",
       "      <td>Prolongacion Malave 153 Edif. 451 , Depto. 675...</td>\n",
       "    </tr>\n",
       "    <tr>\n",
       "      <th>5</th>\n",
       "      <td>6</td>\n",
       "      <td>Nicolas Gloria Leal Amaya</td>\n",
       "      <td>Boulevard Balderas 748 Edif. 728 , Depto. 718\\...</td>\n",
       "    </tr>\n",
       "    <tr>\n",
       "      <th>6</th>\n",
       "      <td>7</td>\n",
       "      <td>Paola Teresa Estevez</td>\n",
       "      <td>Calzada Nayarit 267 195\\nNueva Croacia, CHIS 6...</td>\n",
       "    </tr>\n",
       "    <tr>\n",
       "      <th>7</th>\n",
       "      <td>8</td>\n",
       "      <td>Marcos Espino</td>\n",
       "      <td>Circunvalacion Kazajstan 769 Edif. 014 , Depto...</td>\n",
       "    </tr>\n",
       "    <tr>\n",
       "      <th>8</th>\n",
       "      <td>9</td>\n",
       "      <td>Victor Oswaldo Barela</td>\n",
       "      <td>Boulevard Tabasco 752 Edif. 149 , Depto. 524\\n...</td>\n",
       "    </tr>\n",
       "    <tr>\n",
       "      <th>9</th>\n",
       "      <td>10</td>\n",
       "      <td>Luis Sisneros</td>\n",
       "      <td>Callejon Norte Casarez 845 Interior 617\\nSan Y...</td>\n",
       "    </tr>\n",
       "    <tr>\n",
       "      <th>10</th>\n",
       "      <td>11</td>\n",
       "      <td>Teodoro Eva Olivo Vanegas</td>\n",
       "      <td>Boulevard Lopez 518 Interior 746\\nNueva Eslova...</td>\n",
       "    </tr>\n",
       "    <tr>\n",
       "      <th>11</th>\n",
       "      <td>12</td>\n",
       "      <td>Mtro. Jaqueline Olivarez</td>\n",
       "      <td>Viaducto Valencia 834 Interior 460\\nNueva Isla...</td>\n",
       "    </tr>\n",
       "    <tr>\n",
       "      <th>12</th>\n",
       "      <td>13</td>\n",
       "      <td>Francisca Acosta</td>\n",
       "      <td>Cerrada Olivas 227 Edif. 639 , Depto. 037\\nSan...</td>\n",
       "    </tr>\n",
       "    <tr>\n",
       "      <th>13</th>\n",
       "      <td>14</td>\n",
       "      <td>Magdalena Ines Carreon Rico</td>\n",
       "      <td>Continuacion Norte Miramontes 993 839\\nSan Jos...</td>\n",
       "    </tr>\n",
       "    <tr>\n",
       "      <th>14</th>\n",
       "      <td>15</td>\n",
       "      <td>Marcos Fabiola Velez Polanco</td>\n",
       "      <td>Pasaje Sur Arenas 437 Interior 572\\nSan Daniel...</td>\n",
       "    </tr>\n",
       "  </tbody>\n",
       "</table>\n",
       "</div>"
      ],
      "text/plain": [
       "    datos                        nombre  \\\n",
       "0       1                   Itzel Gamez   \n",
       "1       2    Maria del Carmen Irma Orta   \n",
       "2       3          Bianca Urias Vallejo   \n",
       "3       4   Natividad Elizondo Barragan   \n",
       "4       5    Rosa Perla Aguirre Vazquez   \n",
       "5       6     Nicolas Gloria Leal Amaya   \n",
       "6       7          Paola Teresa Estevez   \n",
       "7       8                 Marcos Espino   \n",
       "8       9         Victor Oswaldo Barela   \n",
       "9      10                 Luis Sisneros   \n",
       "10     11     Teodoro Eva Olivo Vanegas   \n",
       "11     12      Mtro. Jaqueline Olivarez   \n",
       "12     13              Francisca Acosta   \n",
       "13     14   Magdalena Ines Carreon Rico   \n",
       "14     15  Marcos Fabiola Velez Polanco   \n",
       "\n",
       "                                               direcc  \n",
       "0   Diagonal Lozano 678 Edif. 823 , Depto. 736\\nVi...  \n",
       "1   Calle Norte Ramon 278 976\\nSan Sofia los bajos...  \n",
       "2   Boulevard Jaramillo 598 Interior 126\\nSan Gabi...  \n",
       "3   Corredor Azerbaiyan 669 Edif. 069 , Depto. 799...  \n",
       "4   Prolongacion Malave 153 Edif. 451 , Depto. 675...  \n",
       "5   Boulevard Balderas 748 Edif. 728 , Depto. 718\\...  \n",
       "6   Calzada Nayarit 267 195\\nNueva Croacia, CHIS 6...  \n",
       "7   Circunvalacion Kazajstan 769 Edif. 014 , Depto...  \n",
       "8   Boulevard Tabasco 752 Edif. 149 , Depto. 524\\n...  \n",
       "9   Callejon Norte Casarez 845 Interior 617\\nSan Y...  \n",
       "10  Boulevard Lopez 518 Interior 746\\nNueva Eslova...  \n",
       "11  Viaducto Valencia 834 Interior 460\\nNueva Isla...  \n",
       "12  Cerrada Olivas 227 Edif. 639 , Depto. 037\\nSan...  \n",
       "13  Continuacion Norte Miramontes 993 839\\nSan Jos...  \n",
       "14  Pasaje Sur Arenas 437 Interior 572\\nSan Daniel...  "
      ]
     },
     "execution_count": 20,
     "metadata": {},
     "output_type": "execute_result"
    }
   ],
   "source": [
    "df_datos.head(15)"
   ]
  },
  {
   "cell_type": "code",
   "execution_count": 21,
   "metadata": {},
   "outputs": [
    {
     "data": {
      "text/plain": [
       "datos      int64\n",
       "nombre    object\n",
       "direcc    object\n",
       "dtype: object"
      ]
     },
     "execution_count": 21,
     "metadata": {},
     "output_type": "execute_result"
    }
   ],
   "source": [
    "df_datos.dtypes"
   ]
  },
  {
   "cell_type": "code",
   "execution_count": 22,
   "metadata": {},
   "outputs": [
    {
     "data": {
      "text/plain": [
       "pandas.core.series.Series"
      ]
     },
     "execution_count": 22,
     "metadata": {},
     "output_type": "execute_result"
    }
   ],
   "source": [
    "type(df_datos['direcc'])"
   ]
  },
  {
   "cell_type": "code",
   "execution_count": 23,
   "metadata": {},
   "outputs": [
    {
     "data": {
      "text/plain": [
       "0     Diagonal Lozano 678 Edif. 823 , Depto. 736\\nVi...\n",
       "1     Calle Norte Ramon 278 976\\nSan Sofia los bajos...\n",
       "2     Boulevard Jaramillo 598 Interior 126\\nSan Gabi...\n",
       "3     Corredor Azerbaiyan 669 Edif. 069 , Depto. 799...\n",
       "4     Prolongacion Malave 153 Edif. 451 , Depto. 675...\n",
       "5     Boulevard Balderas 748 Edif. 728 , Depto. 718\\...\n",
       "6     Calzada Nayarit 267 195\\nNueva Croacia, CHIS 6...\n",
       "7     Circunvalacion Kazajstan 769 Edif. 014 , Depto...\n",
       "8     Boulevard Tabasco 752 Edif. 149 , Depto. 524\\n...\n",
       "9     Callejon Norte Casarez 845 Interior 617\\nSan Y...\n",
       "10    Boulevard Lopez 518 Interior 746\\nNueva Eslova...\n",
       "11    Viaducto Valencia 834 Interior 460\\nNueva Isla...\n",
       "12    Cerrada Olivas 227 Edif. 639 , Depto. 037\\nSan...\n",
       "13    Continuacion Norte Miramontes 993 839\\nSan Jos...\n",
       "14    Pasaje Sur Arenas 437 Interior 572\\nSan Daniel...\n",
       "15    Calzada Norte Colon 149 605\\nSan Manuel de la ...\n",
       "16    Circuito Norte Oquendo 971 Edif. 848 , Depto. ...\n",
       "17    Diagonal Camarillo 413 592\\nNueva Burundi, PUE...\n",
       "18    Callejon Argentina 168 066\\nSan Esperanza los ...\n",
       "19    Calle Norte Quintero 384 Edif. 448 , Depto. 38...\n",
       "20    Privada Canada 753 066\\nVieja Ghana, COL 66517...\n",
       "21    Privada Papua Nueva Guinea 831 Edif. 501 , Dep...\n",
       "22    Continuacion Colima 485 Edif. 075 , Depto. 148...\n",
       "23    Continuacion Tamaulipas 085 Interior 920\\nSan ...\n",
       "24    Circunvalacion Bahamas 924 085\\nNueva Croacia,...\n",
       "25    Boulevard Ledesma 531 Interior 667\\nNueva Maur...\n",
       "26    Corredor Montenegro 981 Edif. 626 , Depto. 444...\n",
       "27    Calzada Tabasco 052 Interior 856\\nSan Martin l...\n",
       "28    Pasaje Indonesia 969 Interior 801\\nSan Diana l...\n",
       "29    Circunvalacion Aguascalientes 955 545\\nVieja A...\n",
       "30    Andador Zacatecas 911 Interior 793\\nVieja Jord...\n",
       "31    Pasaje Guanajuato 094 Edif. 893 , Depto. 691\\n...\n",
       "Name: direcc, dtype: object"
      ]
     },
     "execution_count": 23,
     "metadata": {},
     "output_type": "execute_result"
    }
   ],
   "source": [
    "df_datos['direcc']"
   ]
  },
  {
   "cell_type": "markdown",
   "metadata": {},
   "source": [
    "## Agregamos Sueldo"
   ]
  },
  {
   "cell_type": "code",
   "execution_count": 24,
   "metadata": {},
   "outputs": [],
   "source": [
    "df_datos['sueldos'] = [round(np.random.exponential(scale = 10000), 2) for x in range(32)]"
   ]
  },
  {
   "cell_type": "code",
   "execution_count": 25,
   "metadata": {},
   "outputs": [
    {
     "data": {
      "text/html": [
       "<div>\n",
       "<style>\n",
       "    .dataframe thead tr:only-child th {\n",
       "        text-align: right;\n",
       "    }\n",
       "\n",
       "    .dataframe thead th {\n",
       "        text-align: left;\n",
       "    }\n",
       "\n",
       "    .dataframe tbody tr th {\n",
       "        vertical-align: top;\n",
       "    }\n",
       "</style>\n",
       "<table border=\"1\" class=\"dataframe\">\n",
       "  <thead>\n",
       "    <tr style=\"text-align: right;\">\n",
       "      <th></th>\n",
       "      <th>datos</th>\n",
       "      <th>nombre</th>\n",
       "      <th>direcc</th>\n",
       "      <th>sueldos</th>\n",
       "    </tr>\n",
       "  </thead>\n",
       "  <tbody>\n",
       "    <tr>\n",
       "      <th>0</th>\n",
       "      <td>1</td>\n",
       "      <td>Itzel Gamez</td>\n",
       "      <td>Diagonal Lozano 678 Edif. 823 , Depto. 736\\nVi...</td>\n",
       "      <td>10763.31</td>\n",
       "    </tr>\n",
       "    <tr>\n",
       "      <th>1</th>\n",
       "      <td>2</td>\n",
       "      <td>Maria del Carmen Irma Orta</td>\n",
       "      <td>Calle Norte Ramon 278 976\\nSan Sofia los bajos...</td>\n",
       "      <td>12574.74</td>\n",
       "    </tr>\n",
       "    <tr>\n",
       "      <th>2</th>\n",
       "      <td>3</td>\n",
       "      <td>Bianca Urias Vallejo</td>\n",
       "      <td>Boulevard Jaramillo 598 Interior 126\\nSan Gabi...</td>\n",
       "      <td>4.71</td>\n",
       "    </tr>\n",
       "    <tr>\n",
       "      <th>3</th>\n",
       "      <td>4</td>\n",
       "      <td>Natividad Elizondo Barragan</td>\n",
       "      <td>Corredor Azerbaiyan 669 Edif. 069 , Depto. 799...</td>\n",
       "      <td>4248.64</td>\n",
       "    </tr>\n",
       "    <tr>\n",
       "      <th>4</th>\n",
       "      <td>5</td>\n",
       "      <td>Rosa Perla Aguirre Vazquez</td>\n",
       "      <td>Prolongacion Malave 153 Edif. 451 , Depto. 675...</td>\n",
       "      <td>2401.98</td>\n",
       "    </tr>\n",
       "    <tr>\n",
       "      <th>5</th>\n",
       "      <td>6</td>\n",
       "      <td>Nicolas Gloria Leal Amaya</td>\n",
       "      <td>Boulevard Balderas 748 Edif. 728 , Depto. 718\\...</td>\n",
       "      <td>8026.64</td>\n",
       "    </tr>\n",
       "    <tr>\n",
       "      <th>6</th>\n",
       "      <td>7</td>\n",
       "      <td>Paola Teresa Estevez</td>\n",
       "      <td>Calzada Nayarit 267 195\\nNueva Croacia, CHIS 6...</td>\n",
       "      <td>11178.80</td>\n",
       "    </tr>\n",
       "    <tr>\n",
       "      <th>7</th>\n",
       "      <td>8</td>\n",
       "      <td>Marcos Espino</td>\n",
       "      <td>Circunvalacion Kazajstan 769 Edif. 014 , Depto...</td>\n",
       "      <td>11103.56</td>\n",
       "    </tr>\n",
       "    <tr>\n",
       "      <th>8</th>\n",
       "      <td>9</td>\n",
       "      <td>Victor Oswaldo Barela</td>\n",
       "      <td>Boulevard Tabasco 752 Edif. 149 , Depto. 524\\n...</td>\n",
       "      <td>13639.97</td>\n",
       "    </tr>\n",
       "    <tr>\n",
       "      <th>9</th>\n",
       "      <td>10</td>\n",
       "      <td>Luis Sisneros</td>\n",
       "      <td>Callejon Norte Casarez 845 Interior 617\\nSan Y...</td>\n",
       "      <td>4472.89</td>\n",
       "    </tr>\n",
       "    <tr>\n",
       "      <th>10</th>\n",
       "      <td>11</td>\n",
       "      <td>Teodoro Eva Olivo Vanegas</td>\n",
       "      <td>Boulevard Lopez 518 Interior 746\\nNueva Eslova...</td>\n",
       "      <td>4917.89</td>\n",
       "    </tr>\n",
       "    <tr>\n",
       "      <th>11</th>\n",
       "      <td>12</td>\n",
       "      <td>Mtro. Jaqueline Olivarez</td>\n",
       "      <td>Viaducto Valencia 834 Interior 460\\nNueva Isla...</td>\n",
       "      <td>5834.44</td>\n",
       "    </tr>\n",
       "    <tr>\n",
       "      <th>12</th>\n",
       "      <td>13</td>\n",
       "      <td>Francisca Acosta</td>\n",
       "      <td>Cerrada Olivas 227 Edif. 639 , Depto. 037\\nSan...</td>\n",
       "      <td>10366.28</td>\n",
       "    </tr>\n",
       "    <tr>\n",
       "      <th>13</th>\n",
       "      <td>14</td>\n",
       "      <td>Magdalena Ines Carreon Rico</td>\n",
       "      <td>Continuacion Norte Miramontes 993 839\\nSan Jos...</td>\n",
       "      <td>11991.68</td>\n",
       "    </tr>\n",
       "    <tr>\n",
       "      <th>14</th>\n",
       "      <td>15</td>\n",
       "      <td>Marcos Fabiola Velez Polanco</td>\n",
       "      <td>Pasaje Sur Arenas 437 Interior 572\\nSan Daniel...</td>\n",
       "      <td>3544.82</td>\n",
       "    </tr>\n",
       "  </tbody>\n",
       "</table>\n",
       "</div>"
      ],
      "text/plain": [
       "    datos                        nombre  \\\n",
       "0       1                   Itzel Gamez   \n",
       "1       2    Maria del Carmen Irma Orta   \n",
       "2       3          Bianca Urias Vallejo   \n",
       "3       4   Natividad Elizondo Barragan   \n",
       "4       5    Rosa Perla Aguirre Vazquez   \n",
       "5       6     Nicolas Gloria Leal Amaya   \n",
       "6       7          Paola Teresa Estevez   \n",
       "7       8                 Marcos Espino   \n",
       "8       9         Victor Oswaldo Barela   \n",
       "9      10                 Luis Sisneros   \n",
       "10     11     Teodoro Eva Olivo Vanegas   \n",
       "11     12      Mtro. Jaqueline Olivarez   \n",
       "12     13              Francisca Acosta   \n",
       "13     14   Magdalena Ines Carreon Rico   \n",
       "14     15  Marcos Fabiola Velez Polanco   \n",
       "\n",
       "                                               direcc   sueldos  \n",
       "0   Diagonal Lozano 678 Edif. 823 , Depto. 736\\nVi...  10763.31  \n",
       "1   Calle Norte Ramon 278 976\\nSan Sofia los bajos...  12574.74  \n",
       "2   Boulevard Jaramillo 598 Interior 126\\nSan Gabi...      4.71  \n",
       "3   Corredor Azerbaiyan 669 Edif. 069 , Depto. 799...   4248.64  \n",
       "4   Prolongacion Malave 153 Edif. 451 , Depto. 675...   2401.98  \n",
       "5   Boulevard Balderas 748 Edif. 728 , Depto. 718\\...   8026.64  \n",
       "6   Calzada Nayarit 267 195\\nNueva Croacia, CHIS 6...  11178.80  \n",
       "7   Circunvalacion Kazajstan 769 Edif. 014 , Depto...  11103.56  \n",
       "8   Boulevard Tabasco 752 Edif. 149 , Depto. 524\\n...  13639.97  \n",
       "9   Callejon Norte Casarez 845 Interior 617\\nSan Y...   4472.89  \n",
       "10  Boulevard Lopez 518 Interior 746\\nNueva Eslova...   4917.89  \n",
       "11  Viaducto Valencia 834 Interior 460\\nNueva Isla...   5834.44  \n",
       "12  Cerrada Olivas 227 Edif. 639 , Depto. 037\\nSan...  10366.28  \n",
       "13  Continuacion Norte Miramontes 993 839\\nSan Jos...  11991.68  \n",
       "14  Pasaje Sur Arenas 437 Interior 572\\nSan Daniel...   3544.82  "
      ]
     },
     "execution_count": 25,
     "metadata": {},
     "output_type": "execute_result"
    }
   ],
   "source": [
    "df_datos.head(15)"
   ]
  },
  {
   "cell_type": "code",
   "execution_count": 26,
   "metadata": {},
   "outputs": [
    {
     "data": {
      "text/plain": [
       "datos        int64\n",
       "nombre      object\n",
       "direcc      object\n",
       "sueldos    float64\n",
       "dtype: object"
      ]
     },
     "execution_count": 26,
     "metadata": {},
     "output_type": "execute_result"
    }
   ],
   "source": [
    "df_datos.dtypes"
   ]
  },
  {
   "cell_type": "markdown",
   "metadata": {},
   "source": [
    "## Creamos histograma"
   ]
  },
  {
   "cell_type": "code",
   "execution_count": 27,
   "metadata": {
    "scrolled": true
   },
   "outputs": [
    {
     "data": {
      "text/plain": [
       "<matplotlib.axes._subplots.AxesSubplot at 0x7fc48e8356d0>"
      ]
     },
     "execution_count": 27,
     "metadata": {},
     "output_type": "execute_result"
    },
    {
     "data": {
      "image/png": "[encoded data removed]",
      "text/plain": [
       "<matplotlib.figure.Figure at 0x7fc48e879950>"
      ]
     },
     "metadata": {},
     "output_type": "display_data"
    }
   ],
   "source": [
    "df_datos['sueldos'].hist()"
   ]
  },
  {
   "cell_type": "code",
   "execution_count": 28,
   "metadata": {},
   "outputs": [
    {
     "data": {
      "image/png": "[encoded data removed]",
      "text/plain": [
       "<matplotlib.figure.Figure at 0x7fc48e7586d0>"
      ]
     },
     "metadata": {},
     "output_type": "display_data"
    }
   ],
   "source": [
    "df_datos['sueldos'].hist(color = 'teal', figsize = (9, 6))\n",
    "plt.show()"
   ]
  },
  {
   "cell_type": "markdown",
   "metadata": {},
   "source": [
    "# Subimos un archivo *CSV*"
   ]
  },
  {
   "cell_type": "code",
   "execution_count": 29,
   "metadata": {},
   "outputs": [],
   "source": [
    "df_call = pd.read_csv('Datasets/911.csv')"
   ]
  },
  {
   "cell_type": "code",
   "execution_count": 30,
   "metadata": {},
   "outputs": [
    {
     "data": {
      "text/html": [
       "<div>\n",
       "<style>\n",
       "    .dataframe thead tr:only-child th {\n",
       "        text-align: right;\n",
       "    }\n",
       "\n",
       "    .dataframe thead th {\n",
       "        text-align: left;\n",
       "    }\n",
       "\n",
       "    .dataframe tbody tr th {\n",
       "        vertical-align: top;\n",
       "    }\n",
       "</style>\n",
       "<table border=\"1\" class=\"dataframe\">\n",
       "  <thead>\n",
       "    <tr style=\"text-align: right;\">\n",
       "      <th></th>\n",
       "      <th>lat</th>\n",
       "      <th>lng</th>\n",
       "      <th>desc</th>\n",
       "      <th>zip</th>\n",
       "      <th>title</th>\n",
       "      <th>timeStamp</th>\n",
       "      <th>twp</th>\n",
       "      <th>addr</th>\n",
       "      <th>e</th>\n",
       "    </tr>\n",
       "  </thead>\n",
       "  <tbody>\n",
       "    <tr>\n",
       "      <th>0</th>\n",
       "      <td>40.297876</td>\n",
       "      <td>-75.581294</td>\n",
       "      <td>REINDEER CT &amp; DEAD END;  NEW HANOVER; Station ...</td>\n",
       "      <td>19525.0</td>\n",
       "      <td>EMS: BACK PAINS/INJURY</td>\n",
       "      <td>2015-12-10 17:10:52</td>\n",
       "      <td>NEW HANOVER</td>\n",
       "      <td>REINDEER CT &amp; DEAD END</td>\n",
       "      <td>1</td>\n",
       "    </tr>\n",
       "    <tr>\n",
       "      <th>1</th>\n",
       "      <td>40.258061</td>\n",
       "      <td>-75.264680</td>\n",
       "      <td>BRIAR PATH &amp; WHITEMARSH LN;  HATFIELD TOWNSHIP...</td>\n",
       "      <td>19446.0</td>\n",
       "      <td>EMS: DIABETIC EMERGENCY</td>\n",
       "      <td>2015-12-10 17:29:21</td>\n",
       "      <td>HATFIELD TOWNSHIP</td>\n",
       "      <td>BRIAR PATH &amp; WHITEMARSH LN</td>\n",
       "      <td>1</td>\n",
       "    </tr>\n",
       "    <tr>\n",
       "      <th>2</th>\n",
       "      <td>40.121182</td>\n",
       "      <td>-75.351975</td>\n",
       "      <td>HAWS AVE; NORRISTOWN; 2015-12-10 @ 14:39:21-St...</td>\n",
       "      <td>19401.0</td>\n",
       "      <td>Fire: GAS-ODOR/LEAK</td>\n",
       "      <td>2015-12-10 14:39:21</td>\n",
       "      <td>NORRISTOWN</td>\n",
       "      <td>HAWS AVE</td>\n",
       "      <td>1</td>\n",
       "    </tr>\n",
       "    <tr>\n",
       "      <th>3</th>\n",
       "      <td>40.116153</td>\n",
       "      <td>-75.343513</td>\n",
       "      <td>AIRY ST &amp; SWEDE ST;  NORRISTOWN; Station 308A;...</td>\n",
       "      <td>19401.0</td>\n",
       "      <td>EMS: CARDIAC EMERGENCY</td>\n",
       "      <td>2015-12-10 16:47:36</td>\n",
       "      <td>NORRISTOWN</td>\n",
       "      <td>AIRY ST &amp; SWEDE ST</td>\n",
       "      <td>1</td>\n",
       "    </tr>\n",
       "    <tr>\n",
       "      <th>4</th>\n",
       "      <td>40.251492</td>\n",
       "      <td>-75.603350</td>\n",
       "      <td>CHERRYWOOD CT &amp; DEAD END;  LOWER POTTSGROVE; S...</td>\n",
       "      <td>NaN</td>\n",
       "      <td>EMS: DIZZINESS</td>\n",
       "      <td>2015-12-10 16:56:52</td>\n",
       "      <td>LOWER POTTSGROVE</td>\n",
       "      <td>CHERRYWOOD CT &amp; DEAD END</td>\n",
       "      <td>1</td>\n",
       "    </tr>\n",
       "    <tr>\n",
       "      <th>5</th>\n",
       "      <td>40.253473</td>\n",
       "      <td>-75.283245</td>\n",
       "      <td>CANNON AVE &amp; W 9TH ST;  LANSDALE; Station 345;...</td>\n",
       "      <td>19446.0</td>\n",
       "      <td>EMS: HEAD INJURY</td>\n",
       "      <td>2015-12-10 15:39:04</td>\n",
       "      <td>LANSDALE</td>\n",
       "      <td>CANNON AVE &amp; W 9TH ST</td>\n",
       "      <td>1</td>\n",
       "    </tr>\n",
       "    <tr>\n",
       "      <th>6</th>\n",
       "      <td>40.182111</td>\n",
       "      <td>-75.127795</td>\n",
       "      <td>LAUREL AVE &amp; OAKDALE AVE;  HORSHAM; Station 35...</td>\n",
       "      <td>19044.0</td>\n",
       "      <td>EMS: NAUSEA/VOMITING</td>\n",
       "      <td>2015-12-10 16:46:48</td>\n",
       "      <td>HORSHAM</td>\n",
       "      <td>LAUREL AVE &amp; OAKDALE AVE</td>\n",
       "      <td>1</td>\n",
       "    </tr>\n",
       "    <tr>\n",
       "      <th>7</th>\n",
       "      <td>40.217286</td>\n",
       "      <td>-75.405182</td>\n",
       "      <td>COLLEGEVILLE RD &amp; LYWISKI RD;  SKIPPACK; Stati...</td>\n",
       "      <td>19426.0</td>\n",
       "      <td>EMS: RESPIRATORY EMERGENCY</td>\n",
       "      <td>2015-12-10 16:17:05</td>\n",
       "      <td>SKIPPACK</td>\n",
       "      <td>COLLEGEVILLE RD &amp; LYWISKI RD</td>\n",
       "      <td>1</td>\n",
       "    </tr>\n",
       "    <tr>\n",
       "      <th>8</th>\n",
       "      <td>40.289027</td>\n",
       "      <td>-75.399590</td>\n",
       "      <td>MAIN ST &amp; OLD SUMNEYTOWN PIKE;  LOWER SALFORD;...</td>\n",
       "      <td>19438.0</td>\n",
       "      <td>EMS: SYNCOPAL EPISODE</td>\n",
       "      <td>2015-12-10 16:51:42</td>\n",
       "      <td>LOWER SALFORD</td>\n",
       "      <td>MAIN ST &amp; OLD SUMNEYTOWN PIKE</td>\n",
       "      <td>1</td>\n",
       "    </tr>\n",
       "    <tr>\n",
       "      <th>9</th>\n",
       "      <td>40.102398</td>\n",
       "      <td>-75.291458</td>\n",
       "      <td>BLUEROUTE  &amp; RAMP I476 NB TO CHEMICAL RD; PLYM...</td>\n",
       "      <td>19462.0</td>\n",
       "      <td>Traffic: VEHICLE ACCIDENT -</td>\n",
       "      <td>2015-12-10 17:35:41</td>\n",
       "      <td>PLYMOUTH</td>\n",
       "      <td>BLUEROUTE  &amp; RAMP I476 NB TO CHEMICAL RD</td>\n",
       "      <td>1</td>\n",
       "    </tr>\n",
       "    <tr>\n",
       "      <th>10</th>\n",
       "      <td>40.231990</td>\n",
       "      <td>-75.251891</td>\n",
       "      <td>RT202 PKWY &amp; KNAPP RD; MONTGOMERY; 2015-12-10 ...</td>\n",
       "      <td>NaN</td>\n",
       "      <td>Traffic: VEHICLE ACCIDENT -</td>\n",
       "      <td>2015-12-10 17:33:50</td>\n",
       "      <td>MONTGOMERY</td>\n",
       "      <td>RT202 PKWY &amp; KNAPP RD</td>\n",
       "      <td>1</td>\n",
       "    </tr>\n",
       "    <tr>\n",
       "      <th>11</th>\n",
       "      <td>40.084161</td>\n",
       "      <td>-75.308386</td>\n",
       "      <td>BROOK RD &amp; COLWELL LN; PLYMOUTH; 2015-12-10 @ ...</td>\n",
       "      <td>19428.0</td>\n",
       "      <td>Traffic: VEHICLE ACCIDENT -</td>\n",
       "      <td>2015-12-10 16:32:10</td>\n",
       "      <td>PLYMOUTH</td>\n",
       "      <td>BROOK RD &amp; COLWELL LN</td>\n",
       "      <td>1</td>\n",
       "    </tr>\n",
       "    <tr>\n",
       "      <th>12</th>\n",
       "      <td>40.174131</td>\n",
       "      <td>-75.098491</td>\n",
       "      <td>BYBERRY AVE &amp; S WARMINSTER RD; UPPER MORELAND;...</td>\n",
       "      <td>19040.0</td>\n",
       "      <td>Traffic: VEHICLE ACCIDENT -</td>\n",
       "      <td>2015-12-10 17:15:49</td>\n",
       "      <td>UPPER MORELAND</td>\n",
       "      <td>BYBERRY AVE &amp; S WARMINSTER RD</td>\n",
       "      <td>1</td>\n",
       "    </tr>\n",
       "    <tr>\n",
       "      <th>13</th>\n",
       "      <td>40.062974</td>\n",
       "      <td>-75.135914</td>\n",
       "      <td>OLD YORK RD &amp; VALLEY RD; CHELTENHAM; 2015-12-1...</td>\n",
       "      <td>19027.0</td>\n",
       "      <td>Traffic: VEHICLE ACCIDENT -</td>\n",
       "      <td>2015-12-10 17:12:47</td>\n",
       "      <td>CHELTENHAM</td>\n",
       "      <td>OLD YORK RD &amp; VALLEY RD</td>\n",
       "      <td>1</td>\n",
       "    </tr>\n",
       "    <tr>\n",
       "      <th>14</th>\n",
       "      <td>40.097222</td>\n",
       "      <td>-75.376195</td>\n",
       "      <td>SCHUYLKILL EXPY &amp; CROTON RD UNDERPASS; UPPER M...</td>\n",
       "      <td>NaN</td>\n",
       "      <td>Traffic: VEHICLE ACCIDENT -</td>\n",
       "      <td>2015-12-10 17:09:49</td>\n",
       "      <td>UPPER MERION</td>\n",
       "      <td>SCHUYLKILL EXPY &amp; CROTON RD UNDERPASS</td>\n",
       "      <td>1</td>\n",
       "    </tr>\n",
       "  </tbody>\n",
       "</table>\n",
       "</div>"
      ],
      "text/plain": [
       "          lat        lng                                               desc  \\\n",
       "0   40.297876 -75.581294  REINDEER CT & DEAD END;  NEW HANOVER; Station ...   \n",
       "1   40.258061 -75.264680  BRIAR PATH & WHITEMARSH LN;  HATFIELD TOWNSHIP...   \n",
       "2   40.121182 -75.351975  HAWS AVE; NORRISTOWN; 2015-12-10 @ 14:39:21-St...   \n",
       "3   40.116153 -75.343513  AIRY ST & SWEDE ST;  NORRISTOWN; Station 308A;...   \n",
       "4   40.251492 -75.603350  CHERRYWOOD CT & DEAD END;  LOWER POTTSGROVE; S...   \n",
       "5   40.253473 -75.283245  CANNON AVE & W 9TH ST;  LANSDALE; Station 345;...   \n",
       "6   40.182111 -75.127795  LAUREL AVE & OAKDALE AVE;  HORSHAM; Station 35...   \n",
       "7   40.217286 -75.405182  COLLEGEVILLE RD & LYWISKI RD;  SKIPPACK; Stati...   \n",
       "8   40.289027 -75.399590  MAIN ST & OLD SUMNEYTOWN PIKE;  LOWER SALFORD;...   \n",
       "9   40.102398 -75.291458  BLUEROUTE  & RAMP I476 NB TO CHEMICAL RD; PLYM...   \n",
       "10  40.231990 -75.251891  RT202 PKWY & KNAPP RD; MONTGOMERY; 2015-12-10 ...   \n",
       "11  40.084161 -75.308386  BROOK RD & COLWELL LN; PLYMOUTH; 2015-12-10 @ ...   \n",
       "12  40.174131 -75.098491  BYBERRY AVE & S WARMINSTER RD; UPPER MORELAND;...   \n",
       "13  40.062974 -75.135914  OLD YORK RD & VALLEY RD; CHELTENHAM; 2015-12-1...   \n",
       "14  40.097222 -75.376195  SCHUYLKILL EXPY & CROTON RD UNDERPASS; UPPER M...   \n",
       "\n",
       "        zip                        title            timeStamp  \\\n",
       "0   19525.0       EMS: BACK PAINS/INJURY  2015-12-10 17:10:52   \n",
       "1   19446.0      EMS: DIABETIC EMERGENCY  2015-12-10 17:29:21   \n",
       "2   19401.0          Fire: GAS-ODOR/LEAK  2015-12-10 14:39:21   \n",
       "3   19401.0       EMS: CARDIAC EMERGENCY  2015-12-10 16:47:36   \n",
       "4       NaN               EMS: DIZZINESS  2015-12-10 16:56:52   \n",
       "5   19446.0             EMS: HEAD INJURY  2015-12-10 15:39:04   \n",
       "6   19044.0         EMS: NAUSEA/VOMITING  2015-12-10 16:46:48   \n",
       "7   19426.0   EMS: RESPIRATORY EMERGENCY  2015-12-10 16:17:05   \n",
       "8   19438.0        EMS: SYNCOPAL EPISODE  2015-12-10 16:51:42   \n",
       "9   19462.0  Traffic: VEHICLE ACCIDENT -  2015-12-10 17:35:41   \n",
       "10      NaN  Traffic: VEHICLE ACCIDENT -  2015-12-10 17:33:50   \n",
       "11  19428.0  Traffic: VEHICLE ACCIDENT -  2015-12-10 16:32:10   \n",
       "12  19040.0  Traffic: VEHICLE ACCIDENT -  2015-12-10 17:15:49   \n",
       "13  19027.0  Traffic: VEHICLE ACCIDENT -  2015-12-10 17:12:47   \n",
       "14      NaN  Traffic: VEHICLE ACCIDENT -  2015-12-10 17:09:49   \n",
       "\n",
       "                  twp                                      addr  e  \n",
       "0         NEW HANOVER                    REINDEER CT & DEAD END  1  \n",
       "1   HATFIELD TOWNSHIP                BRIAR PATH & WHITEMARSH LN  1  \n",
       "2          NORRISTOWN                                  HAWS AVE  1  \n",
       "3          NORRISTOWN                        AIRY ST & SWEDE ST  1  \n",
       "4    LOWER POTTSGROVE                  CHERRYWOOD CT & DEAD END  1  \n",
       "5            LANSDALE                     CANNON AVE & W 9TH ST  1  \n",
       "6             HORSHAM                  LAUREL AVE & OAKDALE AVE  1  \n",
       "7            SKIPPACK              COLLEGEVILLE RD & LYWISKI RD  1  \n",
       "8       LOWER SALFORD             MAIN ST & OLD SUMNEYTOWN PIKE  1  \n",
       "9            PLYMOUTH  BLUEROUTE  & RAMP I476 NB TO CHEMICAL RD  1  \n",
       "10         MONTGOMERY                     RT202 PKWY & KNAPP RD  1  \n",
       "11           PLYMOUTH                     BROOK RD & COLWELL LN  1  \n",
       "12     UPPER MORELAND             BYBERRY AVE & S WARMINSTER RD  1  \n",
       "13         CHELTENHAM                   OLD YORK RD & VALLEY RD  1  \n",
       "14       UPPER MERION     SCHUYLKILL EXPY & CROTON RD UNDERPASS  1  "
      ]
     },
     "execution_count": 30,
     "metadata": {},
     "output_type": "execute_result"
    }
   ],
   "source": [
    "df_call.head(15)"
   ]
  },
  {
   "cell_type": "code",
   "execution_count": 31,
   "metadata": {},
   "outputs": [
    {
     "data": {
      "text/plain": [
       "(423909, 9)"
      ]
     },
     "execution_count": 31,
     "metadata": {},
     "output_type": "execute_result"
    }
   ],
   "source": [
    "df_call.shape"
   ]
  }
 ],
 "metadata": {
  "kernelspec": {
   "display_name": "Python 2",
   "language": "python",
   "name": "python2"
  },
  "language_info": {
   "codemirror_mode": {
    "name": "ipython",
    "version": 2
   },
   "file_extension": ".py",
   "mimetype": "text/x-python",
   "name": "python",
   "nbconvert_exporter": "python",
   "pygments_lexer": "ipython2",
   "version": "2.7.15"
  },
  "toc": {
   "base_numbering": 1,
   "nav_menu": {},
   "number_sections": true,
   "sideBar": true,
   "skip_h1_title": false,
   "title_cell": "Table of Contents",
   "title_sidebar": "Contents",
   "toc_cell": false,
   "toc_position": {},
   "toc_section_display": true,
   "toc_window_display": false
  }
 },
 "nbformat": 4,
 "nbformat_minor": 2
}
