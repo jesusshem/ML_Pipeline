{
 "cells": [
  {
   "cell_type": "markdown",
   "metadata": {},
   "source": [
    "# Introducción\n",
    "\n",
    "Resultados de la encuesta de satisfacción de los usuarios del Hospital (Hospital General Dr. Manuel Gea González) que asisten a los servicios de Urgencias. Los datos corresponden al año 2018."
   ]
  },
  {
   "cell_type": "markdown",
   "metadata": {},
   "source": [
    "# Importación de Librerías"
   ]
  },
  {
   "cell_type": "code",
   "execution_count": 1,
   "metadata": {},
   "outputs": [],
   "source": [
    "from __future__ import division\n",
    "\n",
    "import pandas as pd\n",
    "import seaborn as sns\n",
    "import matplotlib.pyplot as plt\n",
    "%matplotlib inline"
   ]
  },
  {
   "cell_type": "markdown",
   "metadata": {},
   "source": [
    "# Datos"
   ]
  },
  {
   "cell_type": "code",
   "execution_count": 2,
   "metadata": {},
   "outputs": [],
   "source": [
    "df_encues_urgenc = pd.read_excel('Datasets/EncuestaTratoDigno/Urgencias 2018.xlsx')\n",
    "df_encues_dicc = pd.read_csv('Datasets/EncuestaTratoDigno/DiccionarioDatos2018.csv', encoding='ISO-8859-1')"
   ]
  },
  {
   "cell_type": "code",
   "execution_count": 3,
   "metadata": {},
   "outputs": [
    {
     "data": {
      "text/html": [
       "<div>\n",
       "<style>\n",
       "    .dataframe thead tr:only-child th {\n",
       "        text-align: right;\n",
       "    }\n",
       "\n",
       "    .dataframe thead th {\n",
       "        text-align: left;\n",
       "    }\n",
       "\n",
       "    .dataframe tbody tr th {\n",
       "        vertical-align: top;\n",
       "    }\n",
       "</style>\n",
       "<table border=\"1\" class=\"dataframe\">\n",
       "  <thead>\n",
       "    <tr style=\"text-align: right;\">\n",
       "      <th></th>\n",
       "      <th>Fecha de evaluacion</th>\n",
       "      <th>Turno</th>\n",
       "      <th>Servicio</th>\n",
       "      <th>Genero</th>\n",
       "      <th>Usuario con Seguro Popular?</th>\n",
       "      <th>Usuario al que se aplica el cuestionario</th>\n",
       "      <th>Con el tiempo que espero para pasar a consulta usted quedo?</th>\n",
       "      <th>El medico le permitio hablar sobre su estado de salud?</th>\n",
       "      <th>El medico le explico sobre su estado de salud?</th>\n",
       "      <th>El medico le explico sobre el tratamiento que debe seguir?</th>\n",
       "      <th>El medico le explico sobre los cuidados que debe seguir?</th>\n",
       "      <th>En relacion con la informacion que le dio el medico, como la considera usted?</th>\n",
       "      <th>En general el trato que recibio en este hospital fue?</th>\n",
       "      <th>En que area del servicio el personal le dio mal trato</th>\n",
       "      <th>Le solicitaron algun tipo de gratificacion para obtener o agilizar su servicio?</th>\n",
       "      <th>En que area del servicio el personal le solicito algun tipo de gratificacion?</th>\n",
       "      <th>A Usted le realizaron una valoracion medica inicial cuando solicito atenci¢n en Urgencias</th>\n",
       "      <th>El tiempo que espero para ser atendido por primera vez por un medico fue de 15 minutos o menos?</th>\n",
       "      <th>Que tan satisfecho esta con la calidad de la atencion medica</th>\n",
       "      <th>Que calificacion le da a la calidad de la atencion medica recibida del 0 al 10, en donde 10 es muy satisfecho y 0 es muy insatisfecho</th>\n",
       "    </tr>\n",
       "  </thead>\n",
       "  <tbody>\n",
       "    <tr>\n",
       "      <th>0</th>\n",
       "      <td>2 al 3 de enero</td>\n",
       "      <td>Especial</td>\n",
       "      <td>Urgencias</td>\n",
       "      <td>b</td>\n",
       "      <td>a</td>\n",
       "      <td>b</td>\n",
       "      <td>c</td>\n",
       "      <td>a</td>\n",
       "      <td>a</td>\n",
       "      <td>a</td>\n",
       "      <td>a</td>\n",
       "      <td>a</td>\n",
       "      <td>b</td>\n",
       "      <td>j</td>\n",
       "      <td>b</td>\n",
       "      <td>j</td>\n",
       "      <td>a</td>\n",
       "      <td>d</td>\n",
       "      <td>b</td>\n",
       "      <td>9.0</td>\n",
       "    </tr>\n",
       "    <tr>\n",
       "      <th>1</th>\n",
       "      <td>2 al 3 de enero</td>\n",
       "      <td>Especial</td>\n",
       "      <td>Urgencias</td>\n",
       "      <td>b</td>\n",
       "      <td>a</td>\n",
       "      <td>b</td>\n",
       "      <td>b</td>\n",
       "      <td>a</td>\n",
       "      <td>a</td>\n",
       "      <td>a</td>\n",
       "      <td>a</td>\n",
       "      <td>b</td>\n",
       "      <td>a</td>\n",
       "      <td>j</td>\n",
       "      <td>b</td>\n",
       "      <td>j</td>\n",
       "      <td>a</td>\n",
       "      <td>b</td>\n",
       "      <td>a</td>\n",
       "      <td>9.0</td>\n",
       "    </tr>\n",
       "    <tr>\n",
       "      <th>2</th>\n",
       "      <td>2 al 3 de enero</td>\n",
       "      <td>Especial</td>\n",
       "      <td>Urgencias</td>\n",
       "      <td>b</td>\n",
       "      <td>a</td>\n",
       "      <td>b</td>\n",
       "      <td>b</td>\n",
       "      <td>a</td>\n",
       "      <td>a</td>\n",
       "      <td>b</td>\n",
       "      <td>b</td>\n",
       "      <td>b</td>\n",
       "      <td>b</td>\n",
       "      <td>j</td>\n",
       "      <td>b</td>\n",
       "      <td>j</td>\n",
       "      <td>a</td>\n",
       "      <td>b</td>\n",
       "      <td>b</td>\n",
       "      <td>9.0</td>\n",
       "    </tr>\n",
       "  </tbody>\n",
       "</table>\n",
       "</div>"
      ],
      "text/plain": [
       "  Fecha de evaluacion     Turno   Servicio Genero Usuario con Seguro Popular?  \\\n",
       "0     2 al 3 de enero  Especial  Urgencias      b                           a   \n",
       "1     2 al 3 de enero  Especial  Urgencias      b                           a   \n",
       "2     2 al 3 de enero  Especial  Urgencias      b                           a   \n",
       "\n",
       "  Usuario al que se aplica el cuestionario  \\\n",
       "0                                        b   \n",
       "1                                        b   \n",
       "2                                        b   \n",
       "\n",
       "  Con el tiempo que espero para pasar a consulta usted quedo?  \\\n",
       "0                                                  c            \n",
       "1                                                  b            \n",
       "2                                                  b            \n",
       "\n",
       "  El medico le permitio hablar sobre su estado de salud?  \\\n",
       "0                                                  a       \n",
       "1                                                  a       \n",
       "2                                                  a       \n",
       "\n",
       "  El medico le explico sobre su estado de salud?  \\\n",
       "0                                              a   \n",
       "1                                              a   \n",
       "2                                              a   \n",
       "\n",
       "  El medico le explico sobre el tratamiento que debe seguir?  \\\n",
       "0                                                  a           \n",
       "1                                                  a           \n",
       "2                                                  b           \n",
       "\n",
       "  El medico le explico sobre los cuidados que debe seguir?  \\\n",
       "0                                                  a         \n",
       "1                                                  a         \n",
       "2                                                  b         \n",
       "\n",
       "  En relacion con la informacion que le dio el medico, como la considera usted?  \\\n",
       "0                                                  a                              \n",
       "1                                                  b                              \n",
       "2                                                  b                              \n",
       "\n",
       "  En general el trato que recibio en este hospital fue?  \\\n",
       "0                                                  b      \n",
       "1                                                  a      \n",
       "2                                                  b      \n",
       "\n",
       "  En que area del servicio el personal le dio mal trato  \\\n",
       "0                                                  j      \n",
       "1                                                  j      \n",
       "2                                                  j      \n",
       "\n",
       "  Le solicitaron algun tipo de gratificacion para obtener o agilizar su servicio?  \\\n",
       "0                                                  b                                \n",
       "1                                                  b                                \n",
       "2                                                  b                                \n",
       "\n",
       "  En que area del servicio el personal le solicito algun tipo de gratificacion?  \\\n",
       "0                                                  j                              \n",
       "1                                                  j                              \n",
       "2                                                  j                              \n",
       "\n",
       "  A Usted le realizaron una valoracion medica inicial cuando solicito atenci¢n en Urgencias  \\\n",
       "0                                                  a                                          \n",
       "1                                                  a                                          \n",
       "2                                                  a                                          \n",
       "\n",
       "  El tiempo que espero para ser atendido por primera vez por un medico fue de 15 minutos o menos?  \\\n",
       "0                                                  d                                                \n",
       "1                                                  b                                                \n",
       "2                                                  b                                                \n",
       "\n",
       "  Que tan satisfecho esta con la calidad de la atencion medica   \\\n",
       "0                                                  b              \n",
       "1                                                  a              \n",
       "2                                                  b              \n",
       "\n",
       "   Que calificacion le da a la calidad de la atencion medica recibida del 0 al 10, en donde 10 es muy satisfecho y 0 es muy insatisfecho  \n",
       "0                                                9.0                                                                                      \n",
       "1                                                9.0                                                                                      \n",
       "2                                                9.0                                                                                      "
      ]
     },
     "execution_count": 3,
     "metadata": {},
     "output_type": "execute_result"
    }
   ],
   "source": [
    "df_encues_urgenc.head(3)"
   ]
  },
  {
   "cell_type": "code",
   "execution_count": 4,
   "metadata": {},
   "outputs": [
    {
     "data": {
      "text/html": [
       "<div>\n",
       "<style>\n",
       "    .dataframe thead tr:only-child th {\n",
       "        text-align: right;\n",
       "    }\n",
       "\n",
       "    .dataframe thead th {\n",
       "        text-align: left;\n",
       "    }\n",
       "\n",
       "    .dataframe tbody tr th {\n",
       "        vertical-align: top;\n",
       "    }\n",
       "</style>\n",
       "<table border=\"1\" class=\"dataframe\">\n",
       "  <thead>\n",
       "    <tr style=\"text-align: right;\">\n",
       "      <th></th>\n",
       "      <th>Turno de Atención</th>\n",
       "      <th>Sexo</th>\n",
       "      <th>Tipo de Seguridad Social</th>\n",
       "      <th>El entrevistado es</th>\n",
       "      <th>Edad del entrevistado</th>\n",
       "      <th>¿Durante su visita a la unidad lo atendieron con respeto?</th>\n",
       "      <th>Seleccione el personal que no lo atendió con respeto</th>\n",
       "      <th>El tiempo de espera para conseguir una cita con el especialista fue de cuatro semanas o más</th>\n",
       "      <th>¿El médico le dio oportunidad de hacer preguntas o comentar sus preocupaciones respecto al motivo por el que acudió a la consulta?</th>\n",
       "      <th>¿El médico le dio explicaciones fáciles de entender?</th>\n",
       "      <th>¿Entendió Usted cómo deberá tomar los medicamentos?</th>\n",
       "      <th>¿Entendió Usted los cuidados que deberá seguir en su casa?</th>\n",
       "      <th>El médico al decidir su tratamiento, ¿tomó en cuenta sus necesidades y preocupaciones?</th>\n",
       "      <th>¿Dejó de asistir a alguna consulta por no poder pagarla?</th>\n",
       "      <th>¿En algún momento dejó de realizarse estudios o cumplir con su tratamiento(cirugía, rehabilitación) por no poder pagarlo?</th>\n",
       "      <th>¿Dejó de tomar algún medicamento por no poder pagarlo?</th>\n",
       "      <th>¿Considera que el médico pasó suficiente tiempo con Usted durante la consulta?</th>\n",
       "      <th>Durante su visita a esta unidad médica, ¿tuvo dolor?</th>\n",
       "      <th>¿Su dolor fue atendido?</th>\n",
       "      <th>En relación a los medicamentos que le recetaron:</th>\n",
       "      <th>¿Qué tan contento (satisfecho) está con la calidad de la Atención Médica recibida?</th>\n",
       "    </tr>\n",
       "  </thead>\n",
       "  <tbody>\n",
       "    <tr>\n",
       "      <th>0</th>\n",
       "      <td>a) Matutino</td>\n",
       "      <td>a) Mujer</td>\n",
       "      <td>a) Seguro Popular</td>\n",
       "      <td>a) Paciente</td>\n",
       "      <td>a) Menor de 16 años</td>\n",
       "      <td>a) Sí</td>\n",
       "      <td>a) Personal Médico</td>\n",
       "      <td>a) Sí</td>\n",
       "      <td>a) Sí</td>\n",
       "      <td>a) Sí</td>\n",
       "      <td>a) Sí</td>\n",
       "      <td>a) Sí</td>\n",
       "      <td>a) Sí</td>\n",
       "      <td>a) Sí</td>\n",
       "      <td>a) Sí</td>\n",
       "      <td>a) Sí</td>\n",
       "      <td>a) Sí</td>\n",
       "      <td>a) Sí</td>\n",
       "      <td>a) Sí</td>\n",
       "      <td>a) Le dieron todos los que le recetaron</td>\n",
       "      <td>a) Mucho (Satisfecho)</td>\n",
       "    </tr>\n",
       "    <tr>\n",
       "      <th>1</th>\n",
       "      <td>b) Vespertino</td>\n",
       "      <td>b) Hombre</td>\n",
       "      <td>b) IMSS</td>\n",
       "      <td>b) Acompañante</td>\n",
       "      <td>b) Entre 16 y 24 años</td>\n",
       "      <td>b) No</td>\n",
       "      <td>b) Personal de Enfermería</td>\n",
       "      <td>b) No</td>\n",
       "      <td>b) No</td>\n",
       "      <td>b) No</td>\n",
       "      <td>b) No</td>\n",
       "      <td>b) No</td>\n",
       "      <td>b) No</td>\n",
       "      <td>b) No</td>\n",
       "      <td>b) No</td>\n",
       "      <td>b) No</td>\n",
       "      <td>b) No</td>\n",
       "      <td>b) No</td>\n",
       "      <td>b) No</td>\n",
       "      <td>b) Le faltó alguno(s) de los que le recetaron</td>\n",
       "      <td>b) Regular (más o menos satisfecho)</td>\n",
       "    </tr>\n",
       "    <tr>\n",
       "      <th>2</th>\n",
       "      <td>c) Nocturno</td>\n",
       "      <td>NaN</td>\n",
       "      <td>c) IMSS prospera</td>\n",
       "      <td>NaN</td>\n",
       "      <td>c) Entre 25 y 44 años</td>\n",
       "      <td>NaN</td>\n",
       "      <td>c) Personal de Recepción</td>\n",
       "      <td>c) No aplica</td>\n",
       "      <td>c) No acudió a la consulta</td>\n",
       "      <td>NaN</td>\n",
       "      <td>c) No le recetaron medicamentos</td>\n",
       "      <td>c) No le mandaron cuidados</td>\n",
       "      <td>NaN</td>\n",
       "      <td>c) No cobran</td>\n",
       "      <td>NaN</td>\n",
       "      <td>NaN</td>\n",
       "      <td>NaN</td>\n",
       "      <td>NaN</td>\n",
       "      <td>NaN</td>\n",
       "      <td>c) No se los dieron</td>\n",
       "      <td>c) Nada (Insatisfecho)</td>\n",
       "    </tr>\n",
       "  </tbody>\n",
       "</table>\n",
       "</div>"
      ],
      "text/plain": [
       "  Turno de Atención       Sexo Tipo de Seguridad Social El entrevistado es  \\\n",
       "0       a) Matutino   a) Mujer        a) Seguro Popular        a) Paciente   \n",
       "1     b) Vespertino  b) Hombre                  b) IMSS     b) Acompañante   \n",
       "2       c) Nocturno        NaN         c) IMSS prospera                NaN   \n",
       "\n",
       "   Edad del entrevistado  \\\n",
       "0    a) Menor de 16 años   \n",
       "1  b) Entre 16 y 24 años   \n",
       "2  c) Entre 25 y 44 años   \n",
       "\n",
       "  ¿Durante su visita a la unidad lo atendieron con respeto?  \\\n",
       "0                                              a) Sí          \n",
       "1                                              b) No          \n",
       "2                                                NaN          \n",
       "\n",
       "  Seleccione el personal que no lo atendió con respeto  \\\n",
       "0                                 a) Personal Médico     \n",
       "1                          b) Personal de Enfermería     \n",
       "2                           c) Personal de Recepción     \n",
       "\n",
       "  El tiempo de espera para conseguir una cita con el especialista fue de cuatro semanas o más  \\\n",
       "0                                              a) Sí                                            \n",
       "1                                              b) No                                            \n",
       "2                                       c) No aplica                                            \n",
       "\n",
       "  ¿El médico le dio oportunidad de hacer preguntas o comentar sus preocupaciones respecto al motivo por el que acudió a la consulta?  \\\n",
       "0                                              a) Sí                                                                                   \n",
       "1                                              b) No                                                                                   \n",
       "2                         c) No acudió a la consulta                                                                                   \n",
       "\n",
       "  ¿El médico le dio explicaciones fáciles de entender?  \\\n",
       "0                                              a) Sí     \n",
       "1                                              b) No     \n",
       "2                                                NaN     \n",
       "\n",
       "  ¿Entendió Usted cómo deberá tomar los medicamentos?  \\\n",
       "0                                              a) Sí    \n",
       "1                                              b) No    \n",
       "2                    c) No le recetaron medicamentos    \n",
       "\n",
       "  ¿Entendió Usted los cuidados que deberá seguir en su casa?  \\\n",
       "0                                              a) Sí           \n",
       "1                                              b) No           \n",
       "2                         c) No le mandaron cuidados           \n",
       "\n",
       "  El médico al decidir su tratamiento, ¿tomó en cuenta sus necesidades y preocupaciones?  \\\n",
       "0                                              a) Sí                                       \n",
       "1                                              b) No                                       \n",
       "2                                                NaN                                       \n",
       "\n",
       "  ¿Dejó de asistir a alguna consulta por no poder pagarla?  \\\n",
       "0                                              a) Sí         \n",
       "1                                              b) No         \n",
       "2                                       c) No cobran         \n",
       "\n",
       "  ¿En algún momento dejó de realizarse estudios o cumplir con su tratamiento(cirugía, rehabilitación) por no poder pagarlo?  \\\n",
       "0                                              a) Sí                                                                          \n",
       "1                                              b) No                                                                          \n",
       "2                                                NaN                                                                          \n",
       "\n",
       "  ¿Dejó de tomar algún medicamento por no poder pagarlo?  \\\n",
       "0                                              a) Sí       \n",
       "1                                              b) No       \n",
       "2                                                NaN       \n",
       "\n",
       "  ¿Considera que el médico pasó suficiente tiempo con Usted durante la consulta?  \\\n",
       "0                                              a) Sí                               \n",
       "1                                              b) No                               \n",
       "2                                                NaN                               \n",
       "\n",
       "  Durante su visita a esta unidad médica, ¿tuvo dolor?  \\\n",
       "0                                              a) Sí     \n",
       "1                                              b) No     \n",
       "2                                                NaN     \n",
       "\n",
       "  ¿Su dolor fue atendido? En relación a los medicamentos que le recetaron:  \\\n",
       "0                   a) Sí          a) Le dieron todos los que le recetaron   \n",
       "1                   b) No    b) Le faltó alguno(s) de los que le recetaron   \n",
       "2                     NaN                              c) No se los dieron   \n",
       "\n",
       "  ¿Qué tan contento (satisfecho) está con la calidad de la Atención Médica recibida?  \n",
       "0                              a) Mucho (Satisfecho)                                  \n",
       "1                b) Regular (más o menos satisfecho)                                  \n",
       "2                             c) Nada (Insatisfecho)                                  "
      ]
     },
     "execution_count": 4,
     "metadata": {},
     "output_type": "execute_result"
    }
   ],
   "source": [
    "pd.options.display.max_columns = df_encues_dicc.shape[1]\n",
    "df_encues_dicc.head(3)"
   ]
  },
  {
   "cell_type": "markdown",
   "metadata": {},
   "source": [
    "# Cambio de Nombres "
   ]
  },
  {
   "cell_type": "code",
   "execution_count": 17,
   "metadata": {},
   "outputs": [
    {
     "name": "stdout",
     "output_type": "stream",
     "text": [
      "Fecha de evaluacion\n",
      "Turno\n",
      "Servicio\n",
      "Genero\n",
      "Usuario con Seguro Popular?\n",
      "Usuario al que se aplica el cuestionario\n",
      "Con el tiempo que espero para pasar a consulta usted quedo?\n",
      "El medico le permitio hablar sobre su estado de salud?\n",
      "El medico le explico sobre su estado de salud?\n",
      "El medico le explico sobre el tratamiento que debe seguir?\n",
      "El medico le explico sobre los cuidados que debe seguir?\n",
      "En relacion con la informacion que le dio el medico, como la considera usted?\n",
      "En general el trato que recibio en este hospital fue?\n",
      "En que area del servicio el personal le dio mal trato\n",
      "Le solicitaron algun tipo de gratificacion para obtener o agilizar su servicio?\n",
      "En que area del servicio el personal le solicito algun tipo de gratificacion?\n",
      "A Usted le realizaron una valoracion medica inicial cuando solicito atenci¢n en Urgencias\n",
      "El tiempo que espero para ser atendido por primera vez por un medico fue de 15 minutos o menos?\n",
      "Que tan satisfecho esta con la calidad de la atencion medica \n",
      "Que calificacion le da a la calidad de la atencion medica recibida del 0 al 10, en donde 10 es muy satisfecho y 0 es muy insatisfecho\n"
     ]
    }
   ],
   "source": [
    "for _ in df_encues_urgenc.columns:\n",
    "    print _"
   ]
  },
  {
   "cell_type": "code",
   "execution_count": 18,
   "metadata": {},
   "outputs": [],
   "source": [
    "nombres_nuevos = ['Fecha', 'Turno', 'Servicio', 'Sexo', 'Seguro', 'Tipo', 'Satisfacc_T', 'Coment', 'Explicac_Salud', 'Explicac_Trat',\n",
    "                  'Explicac_Cuidad', 'Nivel_Informac', 'Trato', 'Mal_Trato', 'Soborno', 'Soborno_Area', 'VM_Inicial', 'T_Espera', 'Satisfacc_AMed', 'Calific_AM']"
   ]
  },
  {
   "cell_type": "markdown",
   "metadata": {},
   "source": [
    "## Metadatos"
   ]
  },
  {
   "cell_type": "markdown",
   "metadata": {},
   "source": [
    "__Fecha__ = Fecha de Evaluación <br>\n",
    "__Turno__ = Turno <br>\n",
    "__Servicio__ = Servicio <br>\n",
    "__Sexo__ = Genero <br>\n",
    "__Seguro__ = Usuario con Seguro Popular? <br>\n",
    "__Tipo__ = Usuario al que se aplica el cuestionario <br>\n",
    "__Satisfacc_T__ = Con el tiempo que espero para pasar a consulta usted quedo? <br>\n",
    "__Coment__ = El medico le permitio hablar sobre su estado de salud? <br>\n",
    "__Explicac_Salud__ = El medico le explico sobre su estado de salud? <br>\n",
    "__Explicac_Trat__ = El medico le explico sobre el tratamiento que debe seguir? <br>\n",
    "__Explicac_Cuidad__ = El medico le explico sobre los cuidados que debe seguir? <br>\n",
    "__Nivel_Informac__ = En relacion con la informacion que le dio el medico, como la considera usted? <br>\n",
    "__Trato__ = En general el trato que recibio en este hospital fue? <br>\n",
    "__Mal_Trato__ = En que area del servicio el personal le dio mal trato <br>\n",
    "__Soborno__ = Le solicitaron algun tipo de gratificacion para obtener o agilizar su servicio? <br>\n",
    "__Soborno_Area__ = En que area del servicio el personal le solicito algun tipo de gratificacion? <br>\n",
    "__VM_Inicial__ = A Usted le realizaron una valoracion medica inicial cuando solicito atenci¢n en Urgencias <br>\n",
    "__T_Espera__ = El tiempo que espero para ser atendido por primera vez por un medico fue de 15 minutos o menos? <br>\n",
    "__Satisfacc_AMed__ = Que tan satisfecho esta con la calidad de la atencion medica <br>\n",
    "__Calific_AM__ = Que calificacion le da a la calidad de la atencion medica recibida del 0 al 10, en donde 10 es muy satisfecho y 0 es muy insatisfecho"
   ]
  },
  {
   "cell_type": "markdown",
   "metadata": {},
   "source": [
    "## Vamos a crear una lista de tuplas con *zip* (para que sea más fácil renombrar las columnas)\n",
    "\n",
    "__NOTA:__ Deben tener la misma longitud las listas para usar *zip*"
   ]
  },
  {
   "cell_type": "code",
   "execution_count": 19,
   "metadata": {},
   "outputs": [],
   "source": [
    "cambio = zip(df_encues_urgenc.columns.tolist(), nombres_nuevos)"
   ]
  },
  {
   "cell_type": "code",
   "execution_count": 20,
   "metadata": {},
   "outputs": [
    {
     "data": {
      "text/plain": [
       "[(u'Fecha de evaluacion', 'Fecha'),\n",
       " (u'Turno', 'Turno'),\n",
       " (u'Servicio', 'Servicio'),\n",
       " (u'Genero', 'Sexo'),\n",
       " (u'Usuario con Seguro Popular?', 'Seguro'),\n",
       " (u'Usuario al que se aplica el cuestionario', 'Tipo'),\n",
       " (u'Con el tiempo que espero para pasar a consulta usted quedo?',\n",
       "  'Satisfacc_T'),\n",
       " (u'El medico le permitio hablar sobre su estado de salud?', 'Coment'),\n",
       " (u'El medico le explico sobre su estado de salud?', 'Explicac_Salud'),\n",
       " (u'El medico le explico sobre el tratamiento que debe seguir?',\n",
       "  'Explicac_Trat'),\n",
       " (u'El medico le explico sobre los cuidados que debe seguir?',\n",
       "  'Explicac_Cuidad'),\n",
       " (u'En relacion con la informacion que le dio el medico, como la considera usted?',\n",
       "  'Nivel_Informac'),\n",
       " (u'En general el trato que recibio en este hospital fue?', 'Trato'),\n",
       " (u'En que area del servicio el personal le dio mal trato', 'Mal_Trato'),\n",
       " (u'Le solicitaron algun tipo de gratificacion para obtener o agilizar su servicio?',\n",
       "  'Soborno'),\n",
       " (u'En que area del servicio el personal le solicito algun tipo de gratificacion?',\n",
       "  'Soborno_Area'),\n",
       " (u'A Usted le realizaron una valoracion medica inicial cuando solicito atenci\\xa2n en Urgencias',\n",
       "  'VM_Inicial'),\n",
       " (u'El tiempo que espero para ser atendido por primera vez por un medico fue de 15 minutos o menos?',\n",
       "  'T_Espera'),\n",
       " (u'Que tan satisfecho esta con la calidad de la atencion medica ',\n",
       "  'Satisfacc_AMed'),\n",
       " (u'Que calificacion le da a la calidad de la atencion medica recibida del 0 al 10, en donde 10 es muy satisfecho y 0 es muy insatisfecho',\n",
       "  'Calific_AM')]"
      ]
     },
     "execution_count": 20,
     "metadata": {},
     "output_type": "execute_result"
    }
   ],
   "source": [
    "cambio"
   ]
  },
  {
   "cell_type": "code",
   "execution_count": 21,
   "metadata": {},
   "outputs": [],
   "source": [
    "df_encues_urgenc.rename(columns=dict(cambio), inplace=True)"
   ]
  },
  {
   "cell_type": "code",
   "execution_count": 22,
   "metadata": {},
   "outputs": [
    {
     "data": {
      "text/html": [
       "<div>\n",
       "<style>\n",
       "    .dataframe thead tr:only-child th {\n",
       "        text-align: right;\n",
       "    }\n",
       "\n",
       "    .dataframe thead th {\n",
       "        text-align: left;\n",
       "    }\n",
       "\n",
       "    .dataframe tbody tr th {\n",
       "        vertical-align: top;\n",
       "    }\n",
       "</style>\n",
       "<table border=\"1\" class=\"dataframe\">\n",
       "  <thead>\n",
       "    <tr style=\"text-align: right;\">\n",
       "      <th></th>\n",
       "      <th>Fecha</th>\n",
       "      <th>Turno</th>\n",
       "      <th>Servicio</th>\n",
       "      <th>Sexo</th>\n",
       "      <th>Seguro</th>\n",
       "      <th>Tipo</th>\n",
       "      <th>Satisfacc_T</th>\n",
       "      <th>Coment</th>\n",
       "      <th>Explicac_Salud</th>\n",
       "      <th>Explicac_Trat</th>\n",
       "      <th>Explicac_Cuidad</th>\n",
       "      <th>Nivel_Informac</th>\n",
       "      <th>Trato</th>\n",
       "      <th>Mal_Trato</th>\n",
       "      <th>Soborno</th>\n",
       "      <th>Soborno_Area</th>\n",
       "      <th>VM_Inicial</th>\n",
       "      <th>T_Espera</th>\n",
       "      <th>Satisfacc_AMed</th>\n",
       "      <th>Calific_AM</th>\n",
       "    </tr>\n",
       "  </thead>\n",
       "  <tbody>\n",
       "    <tr>\n",
       "      <th>0</th>\n",
       "      <td>2 al 3 de enero</td>\n",
       "      <td>Especial</td>\n",
       "      <td>Urgencias</td>\n",
       "      <td>b</td>\n",
       "      <td>a</td>\n",
       "      <td>b</td>\n",
       "      <td>c</td>\n",
       "      <td>a</td>\n",
       "      <td>a</td>\n",
       "      <td>a</td>\n",
       "      <td>a</td>\n",
       "      <td>a</td>\n",
       "      <td>b</td>\n",
       "      <td>j</td>\n",
       "      <td>b</td>\n",
       "      <td>j</td>\n",
       "      <td>a</td>\n",
       "      <td>d</td>\n",
       "      <td>b</td>\n",
       "      <td>9.0</td>\n",
       "    </tr>\n",
       "    <tr>\n",
       "      <th>1</th>\n",
       "      <td>2 al 3 de enero</td>\n",
       "      <td>Especial</td>\n",
       "      <td>Urgencias</td>\n",
       "      <td>b</td>\n",
       "      <td>a</td>\n",
       "      <td>b</td>\n",
       "      <td>b</td>\n",
       "      <td>a</td>\n",
       "      <td>a</td>\n",
       "      <td>a</td>\n",
       "      <td>a</td>\n",
       "      <td>b</td>\n",
       "      <td>a</td>\n",
       "      <td>j</td>\n",
       "      <td>b</td>\n",
       "      <td>j</td>\n",
       "      <td>a</td>\n",
       "      <td>b</td>\n",
       "      <td>a</td>\n",
       "      <td>9.0</td>\n",
       "    </tr>\n",
       "    <tr>\n",
       "      <th>2</th>\n",
       "      <td>2 al 3 de enero</td>\n",
       "      <td>Especial</td>\n",
       "      <td>Urgencias</td>\n",
       "      <td>b</td>\n",
       "      <td>a</td>\n",
       "      <td>b</td>\n",
       "      <td>b</td>\n",
       "      <td>a</td>\n",
       "      <td>a</td>\n",
       "      <td>b</td>\n",
       "      <td>b</td>\n",
       "      <td>b</td>\n",
       "      <td>b</td>\n",
       "      <td>j</td>\n",
       "      <td>b</td>\n",
       "      <td>j</td>\n",
       "      <td>a</td>\n",
       "      <td>b</td>\n",
       "      <td>b</td>\n",
       "      <td>9.0</td>\n",
       "    </tr>\n",
       "    <tr>\n",
       "      <th>3</th>\n",
       "      <td>2 al 3 de enero</td>\n",
       "      <td>Especial</td>\n",
       "      <td>Urgencias</td>\n",
       "      <td>b</td>\n",
       "      <td>a</td>\n",
       "      <td>b</td>\n",
       "      <td>b</td>\n",
       "      <td>a</td>\n",
       "      <td>a</td>\n",
       "      <td>b</td>\n",
       "      <td>b</td>\n",
       "      <td>b</td>\n",
       "      <td>a</td>\n",
       "      <td>j</td>\n",
       "      <td>b</td>\n",
       "      <td>j</td>\n",
       "      <td>a</td>\n",
       "      <td>c</td>\n",
       "      <td>a</td>\n",
       "      <td>9.0</td>\n",
       "    </tr>\n",
       "    <tr>\n",
       "      <th>4</th>\n",
       "      <td>2 al 3 de enero</td>\n",
       "      <td>Especial</td>\n",
       "      <td>Urgencias</td>\n",
       "      <td>b</td>\n",
       "      <td>a</td>\n",
       "      <td>b</td>\n",
       "      <td>a</td>\n",
       "      <td>a</td>\n",
       "      <td>a</td>\n",
       "      <td>a</td>\n",
       "      <td>a</td>\n",
       "      <td>b</td>\n",
       "      <td>a</td>\n",
       "      <td>j</td>\n",
       "      <td>b</td>\n",
       "      <td>j</td>\n",
       "      <td>a</td>\n",
       "      <td>b</td>\n",
       "      <td>a</td>\n",
       "      <td>10.0</td>\n",
       "    </tr>\n",
       "  </tbody>\n",
       "</table>\n",
       "</div>"
      ],
      "text/plain": [
       "             Fecha     Turno   Servicio Sexo Seguro Tipo Satisfacc_T Coment  \\\n",
       "0  2 al 3 de enero  Especial  Urgencias    b      a    b           c      a   \n",
       "1  2 al 3 de enero  Especial  Urgencias    b      a    b           b      a   \n",
       "2  2 al 3 de enero  Especial  Urgencias    b      a    b           b      a   \n",
       "3  2 al 3 de enero  Especial  Urgencias    b      a    b           b      a   \n",
       "4  2 al 3 de enero  Especial  Urgencias    b      a    b           a      a   \n",
       "\n",
       "  Explicac_Salud Explicac_Trat Explicac_Cuidad Nivel_Informac Trato Mal_Trato  \\\n",
       "0              a             a               a              a     b         j   \n",
       "1              a             a               a              b     a         j   \n",
       "2              a             b               b              b     b         j   \n",
       "3              a             b               b              b     a         j   \n",
       "4              a             a               a              b     a         j   \n",
       "\n",
       "  Soborno Soborno_Area VM_Inicial T_Espera Satisfacc_AMed  Calific_AM  \n",
       "0       b            j          a        d              b         9.0  \n",
       "1       b            j          a        b              a         9.0  \n",
       "2       b            j          a        b              b         9.0  \n",
       "3       b            j          a        c              a         9.0  \n",
       "4       b            j          a        b              a        10.0  "
      ]
     },
     "execution_count": 22,
     "metadata": {},
     "output_type": "execute_result"
    }
   ],
   "source": [
    "df_encues_urgenc.head()"
   ]
  },
  {
   "cell_type": "markdown",
   "metadata": {},
   "source": [
    "# Análisis de Fechas"
   ]
  },
  {
   "cell_type": "markdown",
   "metadata": {},
   "source": [
    "## Ahora procederemos a análizar cada cuándo se realizó la encuesta"
   ]
  },
  {
   "cell_type": "code",
   "execution_count": 11,
   "metadata": {},
   "outputs": [
    {
     "data": {
      "text/plain": [
       "18 al 22 de enero            27\n",
       "10 al 14 de octubre          27\n",
       "25 al 29 de septiembre       27\n",
       " 3 al 7 de octubre           27\n",
       "1 al 4 de marzo              27\n",
       "2 al 5 de febrero            27\n",
       "28 al 31 de marzo            27\n",
       "4 al 8 de enero              18\n",
       "12 al 15 de septiembre       18\n",
       "18 al 22 de abril            18\n",
       "4 al 8 de abril              18\n",
       "20 al 24 de junio de 2015    12\n",
       "19 al 20 de marzo             9\n",
       "22 al 23 de octubre           9\n",
       "23 al 24 de septiembre        9\n",
       "5 al 6 de marzo               9\n",
       "12 al 15 de  septiembre       9\n",
       "2 al 3 de enero               9\n",
       "16 al 17 de enero             9\n",
       "8 al 9 de octubre             9\n",
       "15 al 19 de febrero           9\n",
       "13 al 14 de frebrero          9\n",
       "4  al 8 de enero              9\n",
       "23 al 24 de abril             9\n",
       "17 al 18 de septiembre        9\n",
       "9 al 10 de abril              9\n",
       "15 al 16 de octubre           8\n",
       "22 AL 25 de noviembre         1\n",
       "Name: Fecha, dtype: int64"
      ]
     },
     "execution_count": 11,
     "metadata": {},
     "output_type": "execute_result"
    }
   ],
   "source": [
    "df_encues_urgenc['Fecha'].value_counts()"
   ]
  },
  {
   "cell_type": "markdown",
   "metadata": {},
   "source": [
    "## Creamos un diccionario (meses) para que separe las fechas por las primeras 3 letras de cada mes"
   ]
  },
  {
   "cell_type": "markdown",
   "metadata": {},
   "source": []
  },
  {
   "cell_type": "code",
   "execution_count": 23,
   "metadata": {},
   "outputs": [
    {
     "data": {
      "text/plain": [
       "array([u'2 al 3 de enero', u'4 al 8 de enero ', u'4  al 8 de enero',\n",
       "       u'16 al 17 de enero', u'18 al 22 de enero', u'2 al 5 de febrero',\n",
       "       u'13 al 14 de frebrero', u'15 al 19 de febrero',\n",
       "       u'4 al 8 de abril ', u'9 al 10 de abril', u'18 al 22 de abril ',\n",
       "       u'23 al 24 de abril ', u'1 al 4 de marzo ', u'5 al 6 de marzo ',\n",
       "       u'19 al 20 de marzo ', u'28 al 31 de marzo',\n",
       "       u'20 al 24 de junio de 2015', u'12 al 15 de  septiembre',\n",
       "       u'12 al 15 de septiembre', u'17 al 18 de septiembre',\n",
       "       u'23 al 24 de septiembre', u'25 al 29 de septiembre',\n",
       "       u' 3 al 7 de octubre', u'8 al 9 de octubre',\n",
       "       u'10 al 14 de octubre', u'15 al 16 de octubre',\n",
       "       u'22 al 23 de octubre', u'22 AL 25 de noviembre'], dtype=object)"
      ]
     },
     "execution_count": 23,
     "metadata": {},
     "output_type": "execute_result"
    }
   ],
   "source": [
    "df_encues_urgenc['Fecha'].unique()"
   ]
  },
  {
   "cell_type": "code",
   "execution_count": 25,
   "metadata": {},
   "outputs": [
    {
     "name": "stdout",
     "output_type": "stream",
     "text": [
      "2 al 3 de enero\n",
      "4 al 8 de enero \n",
      "4  al 8 de enero\n",
      "16 al 17 de enero\n",
      "18 al 22 de enero\n",
      "2 al 5 de febrero\n",
      "13 al 14 de frebrero\n",
      "15 al 19 de febrero\n",
      "4 al 8 de abril \n",
      "9 al 10 de abril\n",
      "18 al 22 de abril \n",
      "23 al 24 de abril \n",
      "1 al 4 de marzo \n",
      "5 al 6 de marzo \n",
      "19 al 20 de marzo \n",
      "28 al 31 de marzo\n",
      "20 al 24 de junio de 2015\n",
      "12 al 15 de  septiembre\n",
      "12 al 15 de septiembre\n",
      "17 al 18 de septiembre\n",
      "23 al 24 de septiembre\n",
      "25 al 29 de septiembre\n",
      " 3 al 7 de octubre\n",
      "8 al 9 de octubre\n",
      "10 al 14 de octubre\n",
      "15 al 16 de octubre\n",
      "22 al 23 de octubre\n",
      "22 AL 25 de noviembre\n"
     ]
    }
   ],
   "source": [
    "for _ in df_encues_urgenc['Fecha'].unique():\n",
    "    print _"
   ]
  },
  {
   "cell_type": "markdown",
   "metadata": {},
   "source": []
  },
  {
   "cell_type": "code",
   "execution_count": 26,
   "metadata": {},
   "outputs": [],
   "source": [
    "meses = {}\n",
    "for _ in df_encues_urgenc['Fecha'].unique():\n",
    "    mes = _.split('de')[1][1:4]\n",
    "    #Como capturaron dos meses mal, agregamos dos 'ifs' para enmendarlo\n",
    "    if mes == ' se':\n",
    "        mes = 'sep'\n",
    "    if mes == 'fre':\n",
    "        mes = 'feb'\n",
    "    meses[_] = mes"
   ]
  },
  {
   "cell_type": "markdown",
   "metadata": {},
   "source": [
    "## Observamos que la encuesta fue aplicada más en algunos meses que en otros"
   ]
  },
  {
   "cell_type": "code",
   "execution_count": 13,
   "metadata": {},
   "outputs": [
    {
     "data": {
      "text/plain": [
       "oct    80\n",
       "ene    72\n",
       "sep    72\n",
       "mar    72\n",
       "abr    54\n",
       "feb    45\n",
       "jun    12\n",
       "nov     1\n",
       "Name: Fecha, dtype: int64"
      ]
     },
     "execution_count": 13,
     "metadata": {},
     "output_type": "execute_result"
    }
   ],
   "source": [
    "df_encues_urgenc['Fecha'].map(meses).value_counts()"
   ]
  },
  {
   "cell_type": "code",
   "execution_count": 14,
   "metadata": {},
   "outputs": [
    {
     "data": {
      "image/png": "[encoded data removed]",
      "text/plain": [
       "<matplotlib.figure.Figure at 0x7fab9e1280d0>"
      ]
     },
     "metadata": {},
     "output_type": "display_data"
    }
   ],
   "source": [
    "plt.subplots(figsize= (9, 9))\n",
    "sns.barplot(df_encues_urgenc['Fecha'].map(meses).value_counts().index, df_encues_urgenc['Fecha'].map(meses).value_counts())\n",
    "plt.xticks(rotation=45)\n",
    "plt.xlabel('Meses')\n",
    "plt.ylabel('Total de encuestas')\n",
    "plt.show()"
   ]
  },
  {
   "cell_type": "markdown",
   "metadata": {},
   "source": [
    "# Análisis de Turnos"
   ]
  },
  {
   "cell_type": "code",
   "execution_count": 15,
   "metadata": {},
   "outputs": [
    {
     "data": {
      "text/plain": [
       "Especial       107\n",
       "Matutino        90\n",
       "Nocturno        82\n",
       "Vespertino      75\n",
       "Nocturno        27\n",
       "Matutino        18\n",
       "Vespertino       9\n",
       "Name: Turno, dtype: int64"
      ]
     },
     "execution_count": 15,
     "metadata": {},
     "output_type": "execute_result"
    }
   ],
   "source": [
    "df_encues_urgenc['Turno'].value_counts()"
   ]
  },
  {
   "cell_type": "code",
   "execution_count": 16,
   "metadata": {},
   "outputs": [],
   "source": [
    "turnos = {}\n",
    "for i in range(len(df_encues_urgenc['Turno'].value_counts())):\n",
    "    turno = df_encues_urgenc['Turno'].value_counts().index[i]\n",
    "    turnos[turno] = turno[:3]"
   ]
  },
  {
   "cell_type": "code",
   "execution_count": 17,
   "metadata": {},
   "outputs": [
    {
     "data": {
      "image/png": "[encoded data removed]",
      "text/plain": [
       "<matplotlib.figure.Figure at 0x7fab9e1ae810>"
      ]
     },
     "metadata": {},
     "output_type": "display_data"
    }
   ],
   "source": [
    "plt.subplots(figsize=(9,9))\n",
    "sns.barplot(df_encues_urgenc['Turno'].map(turnos).value_counts().index, df_encues_urgenc['Turno'].map(turnos).value_counts())\n",
    "plt.xticks(rotation=45)\n",
    "plt.xlabel('Tipos de Turnos')\n",
    "plt.ylabel('Total de Ecuestas')\n",
    "plt.show()"
   ]
  },
  {
   "cell_type": "markdown",
   "metadata": {},
   "source": [
    "# Análisis de Servicio"
   ]
  },
  {
   "cell_type": "code",
   "execution_count": 18,
   "metadata": {},
   "outputs": [
    {
     "data": {
      "text/plain": [
       "Urgencias    408\n",
       "Name: Servicio, dtype: int64"
      ]
     },
     "execution_count": 18,
     "metadata": {},
     "output_type": "execute_result"
    }
   ],
   "source": [
    "df_encues_urgenc['Servicio'].value_counts()"
   ]
  },
  {
   "cell_type": "markdown",
   "metadata": {},
   "source": [
    "## Como todos tienen el mismo servicio (urgencias) podemos eliminar la columna"
   ]
  },
  {
   "cell_type": "code",
   "execution_count": 19,
   "metadata": {},
   "outputs": [],
   "source": [
    "df_encues_urgenc.drop(labels='Servicio', axis=1, inplace=True)"
   ]
  },
  {
   "cell_type": "markdown",
   "metadata": {},
   "source": [
    "# Variable *Sexo*\n",
    "\n",
    "## Hombres = 1"
   ]
  },
  {
   "cell_type": "code",
   "execution_count": 20,
   "metadata": {},
   "outputs": [],
   "source": [
    "df_encues_urgenc['Sexo'] = (df_encues_urgenc['Sexo'] == 'b').astype(int)"
   ]
  },
  {
   "cell_type": "code",
   "execution_count": 21,
   "metadata": {},
   "outputs": [
    {
     "data": {
      "text/html": [
       "<div>\n",
       "<style>\n",
       "    .dataframe thead tr:only-child th {\n",
       "        text-align: right;\n",
       "    }\n",
       "\n",
       "    .dataframe thead th {\n",
       "        text-align: left;\n",
       "    }\n",
       "\n",
       "    .dataframe tbody tr th {\n",
       "        vertical-align: top;\n",
       "    }\n",
       "</style>\n",
       "<table border=\"1\" class=\"dataframe\">\n",
       "  <thead>\n",
       "    <tr style=\"text-align: right;\">\n",
       "      <th></th>\n",
       "      <th>Fecha</th>\n",
       "      <th>Turno</th>\n",
       "      <th>Sexo</th>\n",
       "      <th>Seguro</th>\n",
       "      <th>Tipo</th>\n",
       "      <th>Satisfacc_T</th>\n",
       "      <th>Coment</th>\n",
       "      <th>Explicac_Salud</th>\n",
       "      <th>Explicac_Trat</th>\n",
       "      <th>Explicac_Cuidad</th>\n",
       "      <th>Nivel_Informac</th>\n",
       "      <th>Trato</th>\n",
       "      <th>Mal_Trato</th>\n",
       "      <th>Soborno</th>\n",
       "      <th>Soborno_Area</th>\n",
       "      <th>VM_Inicial</th>\n",
       "      <th>T_Espera</th>\n",
       "      <th>Satisfacc_AMed</th>\n",
       "      <th>Calific_AM</th>\n",
       "    </tr>\n",
       "  </thead>\n",
       "  <tbody>\n",
       "    <tr>\n",
       "      <th>0</th>\n",
       "      <td>2 al 3 de enero</td>\n",
       "      <td>Especial</td>\n",
       "      <td>1</td>\n",
       "      <td>a</td>\n",
       "      <td>b</td>\n",
       "      <td>c</td>\n",
       "      <td>a</td>\n",
       "      <td>a</td>\n",
       "      <td>a</td>\n",
       "      <td>a</td>\n",
       "      <td>a</td>\n",
       "      <td>b</td>\n",
       "      <td>j</td>\n",
       "      <td>b</td>\n",
       "      <td>j</td>\n",
       "      <td>a</td>\n",
       "      <td>d</td>\n",
       "      <td>b</td>\n",
       "      <td>9.0</td>\n",
       "    </tr>\n",
       "    <tr>\n",
       "      <th>1</th>\n",
       "      <td>2 al 3 de enero</td>\n",
       "      <td>Especial</td>\n",
       "      <td>1</td>\n",
       "      <td>a</td>\n",
       "      <td>b</td>\n",
       "      <td>b</td>\n",
       "      <td>a</td>\n",
       "      <td>a</td>\n",
       "      <td>a</td>\n",
       "      <td>a</td>\n",
       "      <td>b</td>\n",
       "      <td>a</td>\n",
       "      <td>j</td>\n",
       "      <td>b</td>\n",
       "      <td>j</td>\n",
       "      <td>a</td>\n",
       "      <td>b</td>\n",
       "      <td>a</td>\n",
       "      <td>9.0</td>\n",
       "    </tr>\n",
       "    <tr>\n",
       "      <th>2</th>\n",
       "      <td>2 al 3 de enero</td>\n",
       "      <td>Especial</td>\n",
       "      <td>1</td>\n",
       "      <td>a</td>\n",
       "      <td>b</td>\n",
       "      <td>b</td>\n",
       "      <td>a</td>\n",
       "      <td>a</td>\n",
       "      <td>b</td>\n",
       "      <td>b</td>\n",
       "      <td>b</td>\n",
       "      <td>b</td>\n",
       "      <td>j</td>\n",
       "      <td>b</td>\n",
       "      <td>j</td>\n",
       "      <td>a</td>\n",
       "      <td>b</td>\n",
       "      <td>b</td>\n",
       "      <td>9.0</td>\n",
       "    </tr>\n",
       "    <tr>\n",
       "      <th>3</th>\n",
       "      <td>2 al 3 de enero</td>\n",
       "      <td>Especial</td>\n",
       "      <td>1</td>\n",
       "      <td>a</td>\n",
       "      <td>b</td>\n",
       "      <td>b</td>\n",
       "      <td>a</td>\n",
       "      <td>a</td>\n",
       "      <td>b</td>\n",
       "      <td>b</td>\n",
       "      <td>b</td>\n",
       "      <td>a</td>\n",
       "      <td>j</td>\n",
       "      <td>b</td>\n",
       "      <td>j</td>\n",
       "      <td>a</td>\n",
       "      <td>c</td>\n",
       "      <td>a</td>\n",
       "      <td>9.0</td>\n",
       "    </tr>\n",
       "    <tr>\n",
       "      <th>4</th>\n",
       "      <td>2 al 3 de enero</td>\n",
       "      <td>Especial</td>\n",
       "      <td>1</td>\n",
       "      <td>a</td>\n",
       "      <td>b</td>\n",
       "      <td>a</td>\n",
       "      <td>a</td>\n",
       "      <td>a</td>\n",
       "      <td>a</td>\n",
       "      <td>a</td>\n",
       "      <td>b</td>\n",
       "      <td>a</td>\n",
       "      <td>j</td>\n",
       "      <td>b</td>\n",
       "      <td>j</td>\n",
       "      <td>a</td>\n",
       "      <td>b</td>\n",
       "      <td>a</td>\n",
       "      <td>10.0</td>\n",
       "    </tr>\n",
       "  </tbody>\n",
       "</table>\n",
       "</div>"
      ],
      "text/plain": [
       "             Fecha     Turno  Sexo Seguro Tipo Satisfacc_T Coment  \\\n",
       "0  2 al 3 de enero  Especial     1      a    b           c      a   \n",
       "1  2 al 3 de enero  Especial     1      a    b           b      a   \n",
       "2  2 al 3 de enero  Especial     1      a    b           b      a   \n",
       "3  2 al 3 de enero  Especial     1      a    b           b      a   \n",
       "4  2 al 3 de enero  Especial     1      a    b           a      a   \n",
       "\n",
       "  Explicac_Salud Explicac_Trat Explicac_Cuidad Nivel_Informac Trato Mal_Trato  \\\n",
       "0              a             a               a              a     b         j   \n",
       "1              a             a               a              b     a         j   \n",
       "2              a             b               b              b     b         j   \n",
       "3              a             b               b              b     a         j   \n",
       "4              a             a               a              b     a         j   \n",
       "\n",
       "  Soborno Soborno_Area VM_Inicial T_Espera Satisfacc_AMed  Calific_AM  \n",
       "0       b            j          a        d              b         9.0  \n",
       "1       b            j          a        b              a         9.0  \n",
       "2       b            j          a        b              b         9.0  \n",
       "3       b            j          a        c              a         9.0  \n",
       "4       b            j          a        b              a        10.0  "
      ]
     },
     "execution_count": 21,
     "metadata": {},
     "output_type": "execute_result"
    }
   ],
   "source": [
    "df_encues_urgenc.head(5)"
   ]
  },
  {
   "cell_type": "markdown",
   "metadata": {},
   "source": [
    "# Variable *Seguro*"
   ]
  },
  {
   "cell_type": "markdown",
   "metadata": {},
   "source": [
    "a = Seguro Popular = 1 <br>\n",
    "b = IMSS = 2 <br>\n",
    "d = ISSSTE = 3"
   ]
  },
  {
   "cell_type": "code",
   "execution_count": 22,
   "metadata": {},
   "outputs": [],
   "source": [
    "seguros = {'a': 1, 'b': 2, 'd':3}"
   ]
  },
  {
   "cell_type": "code",
   "execution_count": 23,
   "metadata": {},
   "outputs": [],
   "source": [
    "df_encues_urgenc['Seguro'] = df_encues_urgenc['Seguro'].map(seguros)"
   ]
  },
  {
   "cell_type": "code",
   "execution_count": 24,
   "metadata": {},
   "outputs": [
    {
     "data": {
      "text/plain": [
       "2.0    221\n",
       "1.0    185\n",
       "3.0      1\n",
       "Name: Seguro, dtype: int64"
      ]
     },
     "execution_count": 24,
     "metadata": {},
     "output_type": "execute_result"
    }
   ],
   "source": [
    "df_encues_urgenc['Seguro'].value_counts()"
   ]
  },
  {
   "cell_type": "code",
   "execution_count": 25,
   "metadata": {},
   "outputs": [
    {
     "data": {
      "text/plain": [
       "197   NaN\n",
       "Name: Seguro, dtype: float64"
      ]
     },
     "execution_count": 25,
     "metadata": {},
     "output_type": "execute_result"
    }
   ],
   "source": [
    "df_encues_urgenc['Seguro'].loc[df_encues_urgenc['Seguro'].isnull()]"
   ]
  },
  {
   "cell_type": "code",
   "execution_count": 26,
   "metadata": {},
   "outputs": [],
   "source": [
    "df_encues_urgenc.dropna(subset=['Seguro'], how= 'any', inplace=True)"
   ]
  },
  {
   "cell_type": "code",
   "execution_count": 27,
   "metadata": {},
   "outputs": [
    {
     "data": {
      "text/plain": [
       "Fecha               0\n",
       "Turno               0\n",
       "Sexo                0\n",
       "Seguro              0\n",
       "Tipo                0\n",
       "Satisfacc_T         0\n",
       "Coment              0\n",
       "Explicac_Salud      0\n",
       "Explicac_Trat       0\n",
       "Explicac_Cuidad     0\n",
       "Nivel_Informac      0\n",
       "Trato               0\n",
       "Mal_Trato           0\n",
       "Soborno            17\n",
       "Soborno_Area        0\n",
       "VM_Inicial          0\n",
       "T_Espera            0\n",
       "Satisfacc_AMed      0\n",
       "Calific_AM          0\n",
       "dtype: int64"
      ]
     },
     "execution_count": 27,
     "metadata": {},
     "output_type": "execute_result"
    }
   ],
   "source": [
    "df_encues_urgenc.isnull().sum()"
   ]
  },
  {
   "cell_type": "markdown",
   "metadata": {},
   "source": [
    "# Variable Soborno"
   ]
  },
  {
   "cell_type": "code",
   "execution_count": 28,
   "metadata": {},
   "outputs": [
    {
     "data": {
      "text/plain": [
       "b    390\n",
       "Name: Soborno, dtype: int64"
      ]
     },
     "execution_count": 28,
     "metadata": {},
     "output_type": "execute_result"
    }
   ],
   "source": [
    "df_encues_urgenc['Soborno'].value_counts()"
   ]
  },
  {
   "cell_type": "code",
   "execution_count": 29,
   "metadata": {},
   "outputs": [
    {
     "data": {
      "text/html": [
       "<div>\n",
       "<style>\n",
       "    .dataframe thead tr:only-child th {\n",
       "        text-align: right;\n",
       "    }\n",
       "\n",
       "    .dataframe thead th {\n",
       "        text-align: left;\n",
       "    }\n",
       "\n",
       "    .dataframe tbody tr th {\n",
       "        vertical-align: top;\n",
       "    }\n",
       "</style>\n",
       "<table border=\"1\" class=\"dataframe\">\n",
       "  <thead>\n",
       "    <tr style=\"text-align: right;\">\n",
       "      <th></th>\n",
       "      <th>Turno de Atención</th>\n",
       "      <th>Sexo</th>\n",
       "      <th>Tipo de Seguridad Social</th>\n",
       "      <th>El entrevistado es</th>\n",
       "      <th>Edad del entrevistado</th>\n",
       "      <th>¿Durante su visita a la unidad lo atendieron con respeto?</th>\n",
       "      <th>Seleccione el personal que no lo atendió con respeto</th>\n",
       "      <th>El tiempo de espera para conseguir una cita con el especialista fue de cuatro semanas o más</th>\n",
       "      <th>¿El médico le dio oportunidad de hacer preguntas o comentar sus preocupaciones respecto al motivo por el que acudió a la consulta?</th>\n",
       "      <th>¿El médico le dio explicaciones fáciles de entender?</th>\n",
       "      <th>¿Entendió Usted cómo deberá tomar los medicamentos?</th>\n",
       "      <th>¿Entendió Usted los cuidados que deberá seguir en su casa?</th>\n",
       "      <th>El médico al decidir su tratamiento, ¿tomó en cuenta sus necesidades y preocupaciones?</th>\n",
       "      <th>¿Dejó de asistir a alguna consulta por no poder pagarla?</th>\n",
       "      <th>¿En algún momento dejó de realizarse estudios o cumplir con su tratamiento(cirugía, rehabilitación) por no poder pagarlo?</th>\n",
       "      <th>¿Dejó de tomar algún medicamento por no poder pagarlo?</th>\n",
       "      <th>¿Considera que el médico pasó suficiente tiempo con Usted durante la consulta?</th>\n",
       "      <th>Durante su visita a esta unidad médica, ¿tuvo dolor?</th>\n",
       "      <th>¿Su dolor fue atendido?</th>\n",
       "      <th>En relación a los medicamentos que le recetaron:</th>\n",
       "      <th>¿Qué tan contento (satisfecho) está con la calidad de la Atención Médica recibida?</th>\n",
       "    </tr>\n",
       "  </thead>\n",
       "  <tbody>\n",
       "    <tr>\n",
       "      <th>0</th>\n",
       "      <td>a) Matutino</td>\n",
       "      <td>a) Mujer</td>\n",
       "      <td>a) Seguro Popular</td>\n",
       "      <td>a) Paciente</td>\n",
       "      <td>a) Menor de 16 años</td>\n",
       "      <td>a) Sí</td>\n",
       "      <td>a) Personal Médico</td>\n",
       "      <td>a) Sí</td>\n",
       "      <td>a) Sí</td>\n",
       "      <td>a) Sí</td>\n",
       "      <td>a) Sí</td>\n",
       "      <td>a) Sí</td>\n",
       "      <td>a) Sí</td>\n",
       "      <td>a) Sí</td>\n",
       "      <td>a) Sí</td>\n",
       "      <td>a) Sí</td>\n",
       "      <td>a) Sí</td>\n",
       "      <td>a) Sí</td>\n",
       "      <td>a) Sí</td>\n",
       "      <td>a) Le dieron todos los que le recetaron</td>\n",
       "      <td>a) Mucho (Satisfecho)</td>\n",
       "    </tr>\n",
       "    <tr>\n",
       "      <th>1</th>\n",
       "      <td>b) Vespertino</td>\n",
       "      <td>b) Hombre</td>\n",
       "      <td>b) IMSS</td>\n",
       "      <td>b) Acompañante</td>\n",
       "      <td>b) Entre 16 y 24 años</td>\n",
       "      <td>b) No</td>\n",
       "      <td>b) Personal de Enfermería</td>\n",
       "      <td>b) No</td>\n",
       "      <td>b) No</td>\n",
       "      <td>b) No</td>\n",
       "      <td>b) No</td>\n",
       "      <td>b) No</td>\n",
       "      <td>b) No</td>\n",
       "      <td>b) No</td>\n",
       "      <td>b) No</td>\n",
       "      <td>b) No</td>\n",
       "      <td>b) No</td>\n",
       "      <td>b) No</td>\n",
       "      <td>b) No</td>\n",
       "      <td>b) Le faltó alguno(s) de los que le recetaron</td>\n",
       "      <td>b) Regular (más o menos satisfecho)</td>\n",
       "    </tr>\n",
       "    <tr>\n",
       "      <th>2</th>\n",
       "      <td>c) Nocturno</td>\n",
       "      <td>NaN</td>\n",
       "      <td>c) IMSS prospera</td>\n",
       "      <td>NaN</td>\n",
       "      <td>c) Entre 25 y 44 años</td>\n",
       "      <td>NaN</td>\n",
       "      <td>c) Personal de Recepción</td>\n",
       "      <td>c) No aplica</td>\n",
       "      <td>c) No acudió a la consulta</td>\n",
       "      <td>NaN</td>\n",
       "      <td>c) No le recetaron medicamentos</td>\n",
       "      <td>c) No le mandaron cuidados</td>\n",
       "      <td>NaN</td>\n",
       "      <td>c) No cobran</td>\n",
       "      <td>NaN</td>\n",
       "      <td>NaN</td>\n",
       "      <td>NaN</td>\n",
       "      <td>NaN</td>\n",
       "      <td>NaN</td>\n",
       "      <td>c) No se los dieron</td>\n",
       "      <td>c) Nada (Insatisfecho)</td>\n",
       "    </tr>\n",
       "  </tbody>\n",
       "</table>\n",
       "</div>"
      ],
      "text/plain": [
       "  Turno de Atención       Sexo Tipo de Seguridad Social El entrevistado es  \\\n",
       "0       a) Matutino   a) Mujer        a) Seguro Popular        a) Paciente   \n",
       "1     b) Vespertino  b) Hombre                  b) IMSS     b) Acompañante   \n",
       "2       c) Nocturno        NaN         c) IMSS prospera                NaN   \n",
       "\n",
       "   Edad del entrevistado  \\\n",
       "0    a) Menor de 16 años   \n",
       "1  b) Entre 16 y 24 años   \n",
       "2  c) Entre 25 y 44 años   \n",
       "\n",
       "  ¿Durante su visita a la unidad lo atendieron con respeto?  \\\n",
       "0                                              a) Sí          \n",
       "1                                              b) No          \n",
       "2                                                NaN          \n",
       "\n",
       "  Seleccione el personal que no lo atendió con respeto  \\\n",
       "0                                 a) Personal Médico     \n",
       "1                          b) Personal de Enfermería     \n",
       "2                           c) Personal de Recepción     \n",
       "\n",
       "  El tiempo de espera para conseguir una cita con el especialista fue de cuatro semanas o más  \\\n",
       "0                                              a) Sí                                            \n",
       "1                                              b) No                                            \n",
       "2                                       c) No aplica                                            \n",
       "\n",
       "  ¿El médico le dio oportunidad de hacer preguntas o comentar sus preocupaciones respecto al motivo por el que acudió a la consulta?  \\\n",
       "0                                              a) Sí                                                                                   \n",
       "1                                              b) No                                                                                   \n",
       "2                         c) No acudió a la consulta                                                                                   \n",
       "\n",
       "  ¿El médico le dio explicaciones fáciles de entender?  \\\n",
       "0                                              a) Sí     \n",
       "1                                              b) No     \n",
       "2                                                NaN     \n",
       "\n",
       "  ¿Entendió Usted cómo deberá tomar los medicamentos?  \\\n",
       "0                                              a) Sí    \n",
       "1                                              b) No    \n",
       "2                    c) No le recetaron medicamentos    \n",
       "\n",
       "  ¿Entendió Usted los cuidados que deberá seguir en su casa?  \\\n",
       "0                                              a) Sí           \n",
       "1                                              b) No           \n",
       "2                         c) No le mandaron cuidados           \n",
       "\n",
       "  El médico al decidir su tratamiento, ¿tomó en cuenta sus necesidades y preocupaciones?  \\\n",
       "0                                              a) Sí                                       \n",
       "1                                              b) No                                       \n",
       "2                                                NaN                                       \n",
       "\n",
       "  ¿Dejó de asistir a alguna consulta por no poder pagarla?  \\\n",
       "0                                              a) Sí         \n",
       "1                                              b) No         \n",
       "2                                       c) No cobran         \n",
       "\n",
       "  ¿En algún momento dejó de realizarse estudios o cumplir con su tratamiento(cirugía, rehabilitación) por no poder pagarlo?  \\\n",
       "0                                              a) Sí                                                                          \n",
       "1                                              b) No                                                                          \n",
       "2                                                NaN                                                                          \n",
       "\n",
       "  ¿Dejó de tomar algún medicamento por no poder pagarlo?  \\\n",
       "0                                              a) Sí       \n",
       "1                                              b) No       \n",
       "2                                                NaN       \n",
       "\n",
       "  ¿Considera que el médico pasó suficiente tiempo con Usted durante la consulta?  \\\n",
       "0                                              a) Sí                               \n",
       "1                                              b) No                               \n",
       "2                                                NaN                               \n",
       "\n",
       "  Durante su visita a esta unidad médica, ¿tuvo dolor?  \\\n",
       "0                                              a) Sí     \n",
       "1                                              b) No     \n",
       "2                                                NaN     \n",
       "\n",
       "  ¿Su dolor fue atendido? En relación a los medicamentos que le recetaron:  \\\n",
       "0                   a) Sí          a) Le dieron todos los que le recetaron   \n",
       "1                   b) No    b) Le faltó alguno(s) de los que le recetaron   \n",
       "2                     NaN                              c) No se los dieron   \n",
       "\n",
       "  ¿Qué tan contento (satisfecho) está con la calidad de la Atención Médica recibida?  \n",
       "0                              a) Mucho (Satisfecho)                                  \n",
       "1                b) Regular (más o menos satisfecho)                                  \n",
       "2                             c) Nada (Insatisfecho)                                  "
      ]
     },
     "execution_count": 29,
     "metadata": {},
     "output_type": "execute_result"
    }
   ],
   "source": [
    "pd.options.display.max_columns = df_encues_dicc.shape[1]\n",
    "df_encues_dicc.head(3)"
   ]
  },
  {
   "cell_type": "markdown",
   "metadata": {},
   "source": [
    "## Aquí nos dimos cuenta que el *diccionario* no concuerda con la tabla de *urgencias* sino con la de *consulta externa*"
   ]
  },
  {
   "cell_type": "code",
   "execution_count": null,
   "metadata": {},
   "outputs": [],
   "source": []
  }
 ],
 "metadata": {
  "kernelspec": {
   "display_name": "Python 2",
   "language": "python",
   "name": "python2"
  },
  "language_info": {
   "codemirror_mode": {
    "name": "ipython",
    "version": 2
   },
   "file_extension": ".py",
   "mimetype": "text/x-python",
   "name": "python",
   "nbconvert_exporter": "python",
   "pygments_lexer": "ipython2",
   "version": "2.7.15"
  },
  "toc": {
   "base_numbering": 1,
   "nav_menu": {},
   "number_sections": true,
   "sideBar": true,
   "skip_h1_title": false,
   "title_cell": "Table of Contents",
   "title_sidebar": "Contents",
   "toc_cell": false,
   "toc_position": {},
   "toc_section_display": true,
   "toc_window_display": false
  }
 },
 "nbformat": 4,
 "nbformat_minor": 2
}
