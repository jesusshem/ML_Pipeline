{
 "cells": [
  {
   "cell_type": "markdown",
   "metadata": {},
   "source": [
    "# Introducción"
   ]
  },
  {
   "cell_type": "markdown",
   "metadata": {},
   "source": [
    "**Resultados de la encuesta de satisfacción de los usuarios del Hospital (Hospital General Dr. Manuel Gea González) que asisten a los servicios de Consulta Externa. La encuesta hace referencia a temas de trato digno hacia los pacientes y sus familiares. Los datos corresponden al año 2018.**"
   ]
  },
  {
   "cell_type": "markdown",
   "metadata": {},
   "source": [
    "# Librerías."
   ]
  },
  {
   "cell_type": "code",
   "execution_count": 2,
   "metadata": {},
   "outputs": [],
   "source": [
    "from __future__ import division\n",
    "\n",
    "import pandas as pd\n",
    "import seaborn as sns\n",
    "import matplotlib.pyplot as plt\n",
    "import unidecode\n",
    "%matplotlib inline"
   ]
  },
  {
   "cell_type": "markdown",
   "metadata": {},
   "source": [
    "# Carga de datos."
   ]
  },
  {
   "cell_type": "code",
   "execution_count": null,
   "metadata": {},
   "outputs": [],
   "source": [
    "df_cons_ext = pd.read_excel('Datasets/EncuestaTratoDigno/ConsultaExterna2018.xlsx', encoding='ISO-8859-1')"
   ]
  },
  {
   "cell_type": "code",
   "execution_count": null,
   "metadata": {},
   "outputs": [],
   "source": [
    "pd.options.display.max_columns = df_cons_ext.shape[1]\n",
    "df_cons_ext.head()"
   ]
  },
  {
   "cell_type": "markdown",
   "metadata": {},
   "source": [
    "# Análisis de Variables."
   ]
  },
  {
   "cell_type": "markdown",
   "metadata": {},
   "source": [
    "## Variable *Entrevistado*."
   ]
  },
  {
   "cell_type": "code",
   "execution_count": null,
   "metadata": {},
   "outputs": [],
   "source": [
    "print len(df_cons_ext['Entrevistado']), len(df_cons_ext['Entrevistado'].unique())"
   ]
  },
  {
   "cell_type": "markdown",
   "metadata": {},
   "source": [
    "### Ya que el número de *Entrevistado* es único (funciona como un ID), podemos eliminarla y quedarnos con el índice."
   ]
  },
  {
   "cell_type": "code",
   "execution_count": null,
   "metadata": {},
   "outputs": [],
   "source": [
    "df_cons_ext.drop(labels='Entrevistado', axis=1, inplace=True)"
   ]
  },
  {
   "cell_type": "markdown",
   "metadata": {},
   "source": [
    "# Cambio de Nombres."
   ]
  },
  {
   "cell_type": "markdown",
   "metadata": {},
   "source": [
    "## Creamos nuestros nuevos nombres y los metadatos de éstos."
   ]
  },
  {
   "cell_type": "code",
   "execution_count": null,
   "metadata": {},
   "outputs": [],
   "source": [
    "def cambio_nombre(df):\n",
    "    nuevos_nombres = []\n",
    "    for i in df.columns:\n",
    "        print i\n",
    "        nuevos_nombres.append(raw_input())\n",
    "    return nuevos_nombres"
   ]
  },
  {
   "cell_type": "code",
   "execution_count": null,
   "metadata": {},
   "outputs": [],
   "source": [
    "n_nombs = cambio_nombre(df_cons_ext)"
   ]
  },
  {
   "cell_type": "markdown",
   "metadata": {},
   "source": [
    "**METADATOS:**\n",
    "\n",
    "**Turno** = Turno de Atención <br>\n",
    "**Sexo** = Sexo <br>\n",
    "**Seguro** = Tipo de Seguridad Social <br>\n",
    "**Tipo** = El entrevistado es <br>\n",
    "**Edad** = Edad del entrevistado <br>\n",
    "**Aten_Resp** = ¿Durante su visita a la unidad lo atendieron con respeto? <br>\n",
    "**No_Aten_Resp** = Seleccione el personal que no lo atendió con respeto <br>\n",
    "**Cita_4Sem** = El tiempo de espera para conseguir una cita con el especialista fue de cuatro semanas o más <br>\n",
    "**Coment** = ¿El médico le dio oportunidad de hacer preguntas o comentar sus preocupaciones respecto al motivo por el que acudió a la consulta? <br>\n",
    "**Explic_M** = ¿El médico le dio explicaciones fáciles de entender? <br>\n",
    "**Compr_Medicam** = ¿Entendió Usted cómo deberá tomar los medicamentos? <br>\n",
    "**Compr_Cuid** = ¿Entendió Usted los cuidados que deberá seguir en su casa? <br>\n",
    "**Consider_Preocup** = El médico al decidir su tratamiento, ¿tomó en cuenta sus necesidades y preocupaciones? <br>\n",
    "**No_Cita_Pago** = ¿Dejó de asistir a alguna consulta por no poder pagarla? <br>\n",
    "**No_Trat_Pago** = ¿En algún momento dejó de realizarse estudios o cumplir con su tratamiento(cirugía, rehabilitación) por no poder pagarlo? <br>\n",
    "**No_Medicam_Pago** = ¿Dejó de tomar algún medicamento por no poder pagarlo? <br>\n",
    "**Sufic_T** = ¿Considera que el médico pasó suficiente tiempo con Usted durante la consulta? <br>\n",
    "**Dolor** = Durante su visita a esta unidad médica, ¿tuvo dolor? <br>\n",
    "**Dolor_Cur** = ¿Su dolor fue atendido? <br>\n",
    "**Medicam** = En relación a los medicamentos que le recetaron: <br>\n",
    "**Satisfacc** = ¿Qué tan contento (satisfecho) está con la calidad de la Atención Médica recibida?"
   ]
  },
  {
   "cell_type": "code",
   "execution_count": null,
   "metadata": {},
   "outputs": [],
   "source": [
    "cambio = zip(df_cons_ext.columns.tolist(), n_nombs)\n",
    "\n",
    "df_cons_ext.rename(columns=dict(cambio), inplace=True)"
   ]
  },
  {
   "cell_type": "code",
   "execution_count": null,
   "metadata": {},
   "outputs": [],
   "source": [
    "df_cons_ext.head()"
   ]
  },
  {
   "cell_type": "markdown",
   "metadata": {},
   "source": [
    "# Análisis de Información."
   ]
  },
  {
   "cell_type": "markdown",
   "metadata": {},
   "source": [
    "## Tipo de datos."
   ]
  },
  {
   "cell_type": "code",
   "execution_count": null,
   "metadata": {},
   "outputs": [],
   "source": [
    "df_cons_ext.dtypes"
   ]
  },
  {
   "cell_type": "markdown",
   "metadata": {},
   "source": [
    "## Número de Missings."
   ]
  },
  {
   "cell_type": "code",
   "execution_count": null,
   "metadata": {},
   "outputs": [],
   "source": [
    "df_cons_ext.isnull().sum()"
   ]
  },
  {
   "cell_type": "markdown",
   "metadata": {},
   "source": [
    "## Análisis descriptivo de cada variable."
   ]
  },
  {
   "cell_type": "code",
   "execution_count": null,
   "metadata": {},
   "outputs": [],
   "source": [
    "df_cons_ext.describe(include='all')"
   ]
  },
  {
   "cell_type": "markdown",
   "metadata": {},
   "source": [
    "### La variable *Turno* tiene el 9.1% de valores missing, ya que el único valor que tienen es 'a' (Matutino), supondremos que los valores faltantes también lo son."
   ]
  },
  {
   "cell_type": "code",
   "execution_count": null,
   "metadata": {},
   "outputs": [],
   "source": [
    "df_cons_ext['Turno'].value_counts()"
   ]
  },
  {
   "cell_type": "code",
   "execution_count": null,
   "metadata": {},
   "outputs": [],
   "source": [
    "str(round(df_cons_ext['Turno'].isnull().sum()/len(df_cons_ext['Turno'].notnull())*100, 1)) + '%'"
   ]
  },
  {
   "cell_type": "code",
   "execution_count": null,
   "metadata": {},
   "outputs": [],
   "source": [
    "df_cons_ext.drop('Turno', axis=1, inplace=True)"
   ]
  },
  {
   "cell_type": "markdown",
   "metadata": {},
   "source": [
    "# Ahora cargamos el diccionario de a encuesta."
   ]
  },
  {
   "cell_type": "code",
   "execution_count": null,
   "metadata": {},
   "outputs": [],
   "source": [
    "df_dicc = pd.read_csv('Datasets/EncuestaTratoDigno/DiccionarioDatos2018.csv', encoding='ISO-8859-1')"
   ]
  },
  {
   "cell_type": "code",
   "execution_count": null,
   "metadata": {},
   "outputs": [],
   "source": [
    "pd.options.display.max_columns = df_dicc.shape[1]\n",
    "df_dicc.head()"
   ]
  },
  {
   "cell_type": "markdown",
   "metadata": {},
   "source": [
    "## Como no podemos trabajar con los caracteres, le cambiamos el nombre a la tabla."
   ]
  },
  {
   "cell_type": "code",
   "execution_count": null,
   "metadata": {},
   "outputs": [],
   "source": [
    "n_nombs = cambio_nombre(df_dicc)"
   ]
  },
  {
   "cell_type": "code",
   "execution_count": null,
   "metadata": {},
   "outputs": [],
   "source": [
    "cambio = zip(df_dicc.columns.tolist(), n_nombs)\n",
    "\n",
    "df_dicc.rename(columns=dict(cambio), inplace=True)"
   ]
  },
  {
   "cell_type": "markdown",
   "metadata": {},
   "source": [
    "### Le quitamos los acentos y cualquier caracter que nos impida trabajar, además pasamos todas las palabras a minúsculas."
   ]
  },
  {
   "cell_type": "code",
   "execution_count": null,
   "metadata": {},
   "outputs": [],
   "source": [
    "for _ in df_dicc.columns:\n",
    "    df_dicc[_][df_dicc.notnull()[_]] = df_dicc[_][df_dicc.notnull()[_]].apply(lambda x: unidecode.unidecode(x.lower()))"
   ]
  },
  {
   "cell_type": "markdown",
   "metadata": {},
   "source": [
    "### Observemos que cada columna de la encuesta le corresponde a una del diccionario."
   ]
  },
  {
   "cell_type": "code",
   "execution_count": null,
   "metadata": {},
   "outputs": [],
   "source": [
    "for a, b in zip(df_cons_ext, df_dicc.columns.tolist()[1:]):\n",
    "    print 'C. Externa: {}   Diccionario: {}'.format(a, b)"
   ]
  },
  {
   "cell_type": "markdown",
   "metadata": {},
   "source": [
    "### Entonces, crearemos un diccionario que contega la letra de la opción y lo que significa. Esto para cada columna."
   ]
  },
  {
   "cell_type": "code",
   "execution_count": null,
   "metadata": {},
   "outputs": [],
   "source": [
    "cont = 1\n",
    "for j in df_dicc.columns:\n",
    "    if j != 'Turno':\n",
    "        globals()['d' + str(cont)] = {}\n",
    "        for i in df_dicc[j][df_dicc.notnull()[j]]:\n",
    "            globals()['d' + str(cont)][i.split(')')[0]] = i.split(')')[1][1:]\n",
    "        cont += 1"
   ]
  },
  {
   "cell_type": "markdown",
   "metadata": {},
   "source": [
    "### Vemos que contiene cada diccionario"
   ]
  },
  {
   "cell_type": "code",
   "execution_count": null,
   "metadata": {},
   "outputs": [],
   "source": [
    "for _ in range(1, len(df_dicc.columns)):\n",
    "    print 'd' + str(_) + ': ' + str(eval('d' + str(_)))"
   ]
  },
  {
   "cell_type": "markdown",
   "metadata": {},
   "source": [
    "### Ahora cambiamos los valores para cada variable con los diccionarios que creamos"
   ]
  },
  {
   "cell_type": "code",
   "execution_count": null,
   "metadata": {},
   "outputs": [],
   "source": [
    "df_dicc.shape[1]"
   ]
  },
  {
   "cell_type": "code",
   "execution_count": null,
   "metadata": {},
   "outputs": [],
   "source": [
    "for _ in range(df_dicc.shape[1] - 1):\n",
    "    df_cons_ext[df_cons_ext.columns[_]] = df_cons_ext[df_cons_ext.columns[_]].map(globals()['d' + str(_ + 1)])"
   ]
  },
  {
   "cell_type": "code",
   "execution_count": null,
   "metadata": {},
   "outputs": [],
   "source": [
    "df_cons_ext.head()"
   ]
  }
 ],
 "metadata": {
  "kernelspec": {
   "display_name": "Python 2",
   "language": "python",
   "name": "python2"
  },
  "language_info": {
   "codemirror_mode": {
    "name": "ipython",
    "version": 2
   },
   "file_extension": ".py",
   "mimetype": "text/x-python",
   "name": "python",
   "nbconvert_exporter": "python",
   "pygments_lexer": "ipython2",
   "version": "2.7.15"
  },
  "toc": {
   "base_numbering": 1,
   "nav_menu": {},
   "number_sections": true,
   "sideBar": true,
   "skip_h1_title": false,
   "title_cell": "Table of Contents",
   "title_sidebar": "Contents",
   "toc_cell": false,
   "toc_position": {},
   "toc_section_display": true,
   "toc_window_display": false
  }
 },
 "nbformat": 4,
 "nbformat_minor": 2
}
